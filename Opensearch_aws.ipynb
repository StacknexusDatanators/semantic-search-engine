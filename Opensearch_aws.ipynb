{
 "cells": [
  {
   "cell_type": "code",
   "execution_count": 31,
   "id": "c37cba30",
   "metadata": {},
   "outputs": [],
   "source": [
    "import torch\n",
    "import re\n",
    "import time\n",
    "import sagemaker\n",
    "from transformers import AutoTokenizer, AutoModel\n",
    "from transformers import DistilBertTokenizer, DistilBertModel\n",
    "import json\n",
    "import numpy as np\n",
    "from opensearchpy import OpenSearch, RequestsHttpConnection\n",
    "\n",
    "model_name = \"sentence-transformers/distilbert-base-nli-stsb-mean-tokens\"\n",
    "\n",
    "\n",
    "#Mean Pooling - Take attention mask into account for correct averaging\n",
    "def mean_pooling(model_output, attention_mask):\n",
    "    token_embeddings = model_output[0] #First element of model_output contains all token embeddings\n",
    "    input_mask_expanded = attention_mask.unsqueeze(-1).expand(token_embeddings.size()).float()\n",
    "    sum_embeddings = torch.sum(token_embeddings * input_mask_expanded, 1)\n",
    "    sum_mask = torch.clamp(input_mask_expanded.sum(1), min=1e-9)\n",
    "    return sum_embeddings / sum_mask\n",
    "\n",
    "\n",
    "def sentence_to_vector(raw_inputs):\n",
    "    tokenizer = DistilBertTokenizer.from_pretrained(model_name)\n",
    "    model = DistilBertModel.from_pretrained(model_name)\n",
    "    inputs_tokens = tokenizer(raw_inputs, padding=True, return_tensors=\"pt\")\n",
    "    \n",
    "    with torch.no_grad():\n",
    "        outputs = model(**inputs_tokens)\n",
    "\n",
    "    sentence_embeddings = mean_pooling(outputs, inputs_tokens['attention_mask'])\n",
    "    return sentence_embeddings"
   ]
  },
  {
   "cell_type": "code",
   "execution_count": 74,
   "id": "a5525e77",
   "metadata": {},
   "outputs": [],
   "source": [
    "host = 'search-costplus1-lammv6fxll6v6kj3cguiq5jy3u.us-east-1.es.amazonaws.com' # cluster endpoint, for example: my-test-domain.us-east-1.es.amazonaws.com\n",
    "region = 'us-east-1'\n",
    "service = 'es'\n",
    "auth = (\"pankaj\", \"Stack@123\")\n",
    "\n",
    "# Create the client with SSL/TLS enabled, but hostname verification disabled.\n",
    "client = OpenSearch(\n",
    "    hosts = [{'host': host, 'port': 443}],\n",
    "    http_compress = True, # enables gzip compression for request bodies\n",
    "    http_auth = auth,\n",
    "    use_ssl = True,\n",
    "    verify_certs = True,\n",
    "    connection_class = RequestsHttpConnection,\n",
    "    pool_maxsize = 20\n",
    ")"
   ]
  },
  {
   "cell_type": "code",
   "execution_count": 54,
   "id": "832c0fa7",
   "metadata": {},
   "outputs": [],
   "source": [
    "document_files = [\"H360_updated.json\", \"F360_updated.json\", \"C360_updated.json\"]\n",
    "\n",
    "document_vectors = []\n",
    "\n",
    "for filename in document_files:\n",
    "    with open(filename) as f:\n",
    "        doc = json.load(f)\n",
    "    \n",
    "    title = doc.get('title', None)\n",
    "    description = doc.get('description', None)\n",
    "    \n",
    "    title_vector = sentence_to_vector(title)\n",
    "    description_vector = sentence_to_vector(description)\n",
    "    \n",
    "    document_vectors.append({\"title\": title, \"description\": description, \"title_vector\": title_vector, \"description_vector\": description_vector})"
   ]
  },
  {
   "cell_type": "code",
   "execution_count": 55,
   "id": "5bd5c9a7",
   "metadata": {},
   "outputs": [],
   "source": [
    "knn_index = {\n",
    "    \"settings\": {\n",
    "        \"index.knn\": True,\n",
    "        \"index.knn.space_type\": \"cosinesimil\"\n",
    "    },\n",
    "    \"mappings\": {\n",
    "        \"properties\": {\n",
    "            \"title_vector\": {\n",
    "                \"type\": \"knn_vector\",\n",
    "                \"dimension\": 768,\n",
    "                \"store\": True\n",
    "            },\n",
    "            \"description_vector\": {\n",
    "                \"type\": \"knn_vector\",\n",
    "                \"dimension\": 768,\n",
    "                \"store\": True\n",
    "            },\n",
    "            \"title\": {\n",
    "                \"type\": \"text\",\n",
    "                \"store\": True\n",
    "            },\n",
    "            \"description\": {\n",
    "                \"type\": \"text\",\n",
    "                \"store\": True\n",
    "            }\n",
    "        }\n",
    "    }\n",
    "}"
   ]
  },
  {
   "cell_type": "code",
   "execution_count": 53,
   "id": "e7c04d50",
   "metadata": {},
   "outputs": [
    {
     "data": {
      "text/plain": [
       "{'acknowledged': True}"
      ]
     },
     "execution_count": 53,
     "metadata": {},
     "output_type": "execute_result"
    }
   ],
   "source": [
    "client.indices.delete(index = \"02\")"
   ]
  },
  {
   "cell_type": "code",
   "execution_count": 56,
   "id": "4753112c",
   "metadata": {},
   "outputs": [
    {
     "data": {
      "text/plain": [
       "{'acknowledged': True, 'shards_acknowledged': True, 'index': '01'}"
      ]
     },
     "execution_count": 56,
     "metadata": {},
     "output_type": "execute_result"
    }
   ],
   "source": [
    "client.indices.create(index=\"01\", body=knn_index, ignore=400)"
   ]
  },
  {
   "cell_type": "code",
   "execution_count": 57,
   "id": "4231a818",
   "metadata": {
    "collapsed": true
   },
   "outputs": [
    {
     "data": {
      "text/plain": [
       "{'01': {'aliases': {},\n",
       "  'mappings': {'properties': {'description': {'type': 'text', 'store': True},\n",
       "    'description_vector': {'type': 'knn_vector',\n",
       "     'store': True,\n",
       "     'dimension': 768},\n",
       "    'title': {'type': 'text', 'store': True},\n",
       "    'title_vector': {'type': 'knn_vector', 'store': True, 'dimension': 768}}},\n",
       "  'settings': {'index': {'replication': {'type': 'DOCUMENT'},\n",
       "    'number_of_shards': '5',\n",
       "    'provided_name': '01',\n",
       "    'knn.space_type': 'cosinesimil',\n",
       "    'knn': 'true',\n",
       "    'creation_date': '1713258553633',\n",
       "    'number_of_replicas': '1',\n",
       "    'uuid': 'FpZghV_QT8aMQFhDexookA',\n",
       "    'version': {'created': '136327827'}}}}}"
      ]
     },
     "execution_count": 57,
     "metadata": {},
     "output_type": "execute_result"
    }
   ],
   "source": [
    "client.indices.get(index=\"01\")"
   ]
  },
  {
   "cell_type": "code",
   "execution_count": 58,
   "id": "dfc9c790",
   "metadata": {},
   "outputs": [],
   "source": [
    "for document_data in document_vectors:\n",
    "    client.index(index='01', body={\n",
    "        \"title_vector\": list(np.array(document_data[\"title_vector\"][0])),\n",
    "        \"description_vector\": list(np.array(document_data[\"description_vector\"][0])),\n",
    "        \"title\": document_data[\"title\"],\n",
    "        \"description\": document_data[\"description\"]\n",
    "    })"
   ]
  },
  {
   "cell_type": "code",
   "execution_count": 83,
   "id": "adf3a5f0",
   "metadata": {},
   "outputs": [],
   "source": [
    "query_raw_sentences = ['Shopping']\n",
    "search_vector = sentence_to_vector(query_raw_sentences)[0].tolist()"
   ]
  },
  {
   "cell_type": "code",
   "execution_count": 84,
   "id": "3e1740f4",
   "metadata": {},
   "outputs": [
    {
     "name": "stdout",
     "output_type": "stream",
     "text": [
      "Score: 0.68041146\n",
      "Title: Retail_360\n",
      "Description: Comprehensive retail data integration platform for a unified view of customer shopping behaviors, inventory management, and sales performance.\n",
      "\n",
      "Score: 0.5940871\n",
      "Title: Customer_360\n",
      "Description: Customer data from various sources, enabling a holistic view of customers.\n",
      "\n",
      "Score: 0.55193615\n",
      "Title: Healthcare_360\n",
      "Description: Comprehensive healthcare data integration platform for a unified view of patient records and medical information.\n",
      "\n"
     ]
    }
   ],
   "source": [
    "query = {\n",
    "    \"size\": 30,\n",
    "    \"query\": {\n",
    "        \"knn\": {\n",
    "            \"title_vector\": {\n",
    "                \"vector\": search_vector,\n",
    "                \"k\": 30\n",
    "            }\n",
    "        }\n",
    "    }\n",
    "}\n",
    "\n",
    "res = client.search(index=\"01\", body=query)\n",
    "for hit in res['hits']['hits']:\n",
    "    print(\"Score:\", hit['_score'])\n",
    "    print(\"Title:\", hit['_source']['title'])\n",
    "    print(\"Description:\", hit['_source']['description'])\n",
    "    print()"
   ]
  },
  {
   "cell_type": "code",
   "execution_count": null,
   "id": "35e72e5b",
   "metadata": {},
   "outputs": [],
   "source": []
  }
 ],
 "metadata": {
  "kernelspec": {
   "display_name": "Python 3 (ipykernel)",
   "language": "python",
   "name": "python3"
  },
  "language_info": {
   "codemirror_mode": {
    "name": "ipython",
    "version": 3
   },
   "file_extension": ".py",
   "mimetype": "text/x-python",
   "name": "python",
   "nbconvert_exporter": "python",
   "pygments_lexer": "ipython3",
   "version": "3.9.18"
  }
 },
 "nbformat": 4,
 "nbformat_minor": 5
}
