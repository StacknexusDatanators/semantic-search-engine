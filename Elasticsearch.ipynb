{
 "cells": [
  {
   "cell_type": "markdown",
   "id": "438167fb",
   "metadata": {},
   "source": [
    "# Semantic Search"
   ]
  },
  {
   "cell_type": "code",
   "execution_count": 69,
   "id": "160f5182-f1ad-493b-800e-e8d025968b52",
   "metadata": {},
   "outputs": [],
   "source": [
    "from elasticsearch import Elasticsearch\n",
    "from sentence_transformers import SentenceTransformer\n",
    "model = SentenceTransformer('all-MiniLM-L6-v2')\n",
    "import warnings\n",
    "warnings.filterwarnings(\"ignore\")"
   ]
  },
  {
   "cell_type": "markdown",
   "id": "f51476e1-70a2-497a-af8b-02702c690fd7",
   "metadata": {},
   "source": [
    "## Connecting to Elasticsearch"
   ]
  },
  {
   "cell_type": "code",
   "execution_count": 70,
   "id": "9302cc81-2283-4080-afe0-485d3fe69397",
   "metadata": {},
   "outputs": [],
   "source": [
    "es = Elasticsearch(\"https://localhost:9200\", basic_auth=(\"elastic\", \"Data_is_Lyfe\"), verify_certs=False)"
   ]
  },
  {
   "cell_type": "code",
   "execution_count": 71,
   "id": "c1fe0780",
   "metadata": {},
   "outputs": [],
   "source": [
    "query_phrase = \"medicines\""
   ]
  },
  {
   "cell_type": "code",
   "execution_count": 72,
   "id": "4ad9b841",
   "metadata": {},
   "outputs": [],
   "source": [
    "qr_vec = model.encode(query_phrase)"
   ]
  },
  {
   "cell_type": "markdown",
   "id": "50aa834b-0955-43b0-b444-3fe5f3ab3f9b",
   "metadata": {},
   "source": [
    "2 x Cosine(search_vec, title_vec) + 1 x Cosine(search_vec, desc_vec)"
   ]
  },
  {
   "cell_type": "code",
   "execution_count": 73,
   "id": "426f7310-a44e-49e9-bbb7-5b2da3f281b8",
   "metadata": {},
   "outputs": [],
   "source": [
    "# SELECT tittle FROM DP_index SORT BY COSINE () "
   ]
  },
  {
   "cell_type": "code",
   "execution_count": 74,
   "id": "949331c1",
   "metadata": {},
   "outputs": [],
   "source": [
    "qr = {\n",
    "\"script_score\": {\n",
    "# \"min_score\": 4.0,\n",
    "\"query\": {\"match_all\": {}},\n",
    "\"script\": {\n",
    "\"source\": \"2*(cosineSimilarity(params.query_vector, 'title_vec') + 1.0) + (cosineSimilarity(params.query_vector, 'description_vec') + 1.0)\",\n",
    "\"params\": {\"query_vector\": qr_vec}\n",
    "}\n",
    "}\n",
    "}"
   ]
  },
  {
   "cell_type": "code",
   "execution_count": 75,
   "id": "39e72f5f-eaab-4d82-bce4-b4b7c4f09304",
   "metadata": {},
   "outputs": [],
   "source": [
    "qr_fuzz = {\n",
    "\"script_score\": {\n",
    "\"query\": {\n",
    "    \"fuzzy\": {\n",
    "      \"title.keyword\": {\n",
    "        \"value\": \"custumer\"\n",
    "      }\n",
    "    }\n",
    "},\n",
    "\"script\": {\n",
    "\"source\": \"2*(cosineSimilarity(params.query_vector, 'title_vec') + 1.0) + (cosineSimilarity(params.query_vector, 'description_vec') + 1.0)\",\n",
    "\"params\": {\"query_vector\": qr_vec}\n",
    "}\n",
    "}\n",
    "}"
   ]
  },
  {
   "cell_type": "code",
   "execution_count": 76,
   "id": "354aa2f1",
   "metadata": {},
   "outputs": [],
   "source": [
    "search_res = [{\"title\":t[\"_source\"][\"title\"], \"score\":t[\"_score\"]} for t in es.search(query=qr, index = \"dp_test_1\")[\"hits\"][\"hits\"]]"
   ]
  },
  {
   "cell_type": "code",
   "execution_count": 77,
   "id": "20cb662b",
   "metadata": {},
   "outputs": [
    {
     "data": {
      "text/plain": [
       "[{'title': 'Healthcare_360', 'score': 3.7168052},\n",
       " {'title': 'Customer_360', 'score': 3.2733698},\n",
       " {'title': 'Banking_360', 'score': 3.116454}]"
      ]
     },
     "execution_count": 77,
     "metadata": {},
     "output_type": "execute_result"
    }
   ],
   "source": [
    "search_res"
   ]
  },
  {
   "cell_type": "code",
   "execution_count": 78,
   "id": "37776405",
   "metadata": {},
   "outputs": [],
   "source": [
    "search_1 = es.search(index=\"dp_test_1\", body={\"query\": qr})"
   ]
  },
  {
   "cell_type": "code",
   "execution_count": 79,
   "id": "a1023bfe-4781-4958-97c1-f8f8f675a63a",
   "metadata": {},
   "outputs": [],
   "source": [
    "test_phrase = \"credit card\""
   ]
  },
  {
   "cell_type": "code",
   "execution_count": 80,
   "id": "1ffcc136-4d0d-4615-906a-145d7d0d1ad8",
   "metadata": {},
   "outputs": [],
   "source": [
    "query_vec = model.encode(test_phrase)"
   ]
  },
  {
   "cell_type": "code",
   "execution_count": 81,
   "id": "05783af2-9a33-4b9c-82cd-884eff795a58",
   "metadata": {},
   "outputs": [
    {
     "data": {
      "text/plain": [
       "384"
      ]
     },
     "execution_count": 81,
     "metadata": {},
     "output_type": "execute_result"
    }
   ],
   "source": [
    "len(query_vec)"
   ]
  },
  {
   "cell_type": "code",
   "execution_count": 82,
   "id": "893980d7-5fa4-4b58-81cc-1e4883d0c492",
   "metadata": {},
   "outputs": [],
   "source": [
    "qr = {\n",
    "\"script_score\": {\n",
    "\"query\": {\"match_all\": {}},\n",
    "\"script\": {\n",
    "\"source\": \"2*(cosineSimilarity(params.query_vector, 'title_vec') + 1.0) + (cosineSimilarity(params.query_vector, 'description_vec') + 1.0)\",\n",
    "\"params\": {\"query_vector\": query_vec}\n",
    "}\n",
    "}\n",
    "}"
   ]
  },
  {
   "cell_type": "code",
   "execution_count": 83,
   "id": "ad086fe9",
   "metadata": {},
   "outputs": [],
   "source": [
    "word_res = [{\"title\":t[\"_source\"][\"title\"], \"score\":t[\"_score\"]} for t in es.search(query=qr, index = \"dp_test_1\")[\"hits\"][\"hits\"]]"
   ]
  },
  {
   "cell_type": "code",
   "execution_count": 84,
   "id": "7b67974d",
   "metadata": {},
   "outputs": [
    {
     "data": {
      "text/plain": [
       "[{'title': 'Banking_360', 'score': 4.276055},\n",
       " {'title': 'Customer_360', 'score': 3.884015},\n",
       " {'title': 'Healthcare_360', 'score': 3.734417}]"
      ]
     },
     "execution_count": 84,
     "metadata": {},
     "output_type": "execute_result"
    }
   ],
   "source": [
    "word_res"
   ]
  },
  {
   "cell_type": "markdown",
   "id": "70ecbfaf-e348-4201-abcd-027cac1538c2",
   "metadata": {},
   "source": [
    "# KNN search"
   ]
  },
  {
   "cell_type": "code",
   "execution_count": 105,
   "id": "1d9fbc79-c9bd-4235-b1e7-75dc61aa9efc",
   "metadata": {},
   "outputs": [],
   "source": [
    "test_phrase = \"debt\""
   ]
  },
  {
   "cell_type": "code",
   "execution_count": 106,
   "id": "94160079-d33d-45f1-b834-e599cf85e60c",
   "metadata": {},
   "outputs": [],
   "source": [
    "query_vec = model.encode(test_phrase)"
   ]
  },
  {
   "cell_type": "code",
   "execution_count": 107,
   "id": "8521a279-96a5-45fb-b4c1-fb0b8a00075d",
   "metadata": {},
   "outputs": [],
   "source": [
    "qr ={\n",
    "    \"field\": \"title_vec\",\n",
    "    \"query_vector\": query_vec,\n",
    "    \"k\": 3,\n",
    "    \"num_candidates\": 10\n",
    "  }"
   ]
  },
  {
   "cell_type": "code",
   "execution_count": 108,
   "id": "4160e391-c1c6-4a66-9260-1efbf68b0658",
   "metadata": {},
   "outputs": [],
   "source": [
    "word_res = [{\"title\":t[\"_source\"][\"title\"], \"score\":t[\"_score\"]} for t in es.knn_search(knn = qr, index = \"dp_test_1\")[\"hits\"][\"hits\"]]"
   ]
  },
  {
   "cell_type": "code",
   "execution_count": 109,
   "id": "689effbf-d222-4ffd-bc60-308ef18fdf37",
   "metadata": {},
   "outputs": [
    {
     "data": {
      "text/plain": [
       "[{'title': 'Banking_360', 'score': 0.4476},\n",
       " {'title': 'Healthcare_360', 'score': 0.41087684},\n",
       " {'title': 'Customer_360', 'score': 0.39695895}]"
      ]
     },
     "execution_count": 109,
     "metadata": {},
     "output_type": "execute_result"
    }
   ],
   "source": [
    "word_res"
   ]
  },
  {
   "cell_type": "code",
   "execution_count": null,
   "id": "1b56e4f3-90ed-4d83-883f-0a37c307d48e",
   "metadata": {},
   "outputs": [],
   "source": []
  },
  {
   "cell_type": "code",
   "execution_count": null,
   "id": "4f0388e0-a874-435c-b35a-2d2fcce177e4",
   "metadata": {},
   "outputs": [],
   "source": []
  },
  {
   "cell_type": "code",
   "execution_count": null,
   "id": "2897a65d-d2ac-4500-9d06-cef678c97112",
   "metadata": {},
   "outputs": [],
   "source": []
  }
 ],
 "metadata": {
  "kernelspec": {
   "display_name": "Python 3 (ipykernel)",
   "language": "python",
   "name": "python3"
  },
  "language_info": {
   "codemirror_mode": {
    "name": "ipython",
    "version": 3
   },
   "file_extension": ".py",
   "mimetype": "text/x-python",
   "name": "python",
   "nbconvert_exporter": "python",
   "pygments_lexer": "ipython3",
   "version": "3.9.18"
  }
 },
 "nbformat": 4,
 "nbformat_minor": 5
}
