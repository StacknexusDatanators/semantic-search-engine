{
 "cells": [
  {
   "cell_type": "code",
   "execution_count": 1,
   "id": "b823a83c",
   "metadata": {},
   "outputs": [],
   "source": [
    "from elasticsearch import Elasticsearch"
   ]
  },
  {
   "cell_type": "code",
   "execution_count": 6,
   "id": "08a2045c",
   "metadata": {},
   "outputs": [
    {
     "name": "stderr",
     "output_type": "stream",
     "text": [
      "/Users/astrobalaji/anaconda3/envs/semantic_search/lib/python3.8/site-packages/elasticsearch/_sync/client/__init__.py:397: SecurityWarning: Connecting to 'https://localhost:9200' using TLS with verify_certs=False is insecure\n",
      "  _transport = transport_class(\n"
     ]
    }
   ],
   "source": [
    "es = Elasticsearch(\"https://localhost:9200\", basic_auth=(\"elastic\", \"Data_is_Lyfe\"), verify_certs=False)"
   ]
  },
  {
   "cell_type": "code",
   "execution_count": 8,
   "id": "9c7699b8",
   "metadata": {},
   "outputs": [],
   "source": [
    "es.indices.create"
   ]
  },
  {
   "cell_type": "code",
   "execution_count": 15,
   "id": "72cb0e0a",
   "metadata": {},
   "outputs": [
    {
     "name": "stderr",
     "output_type": "stream",
     "text": [
      "/tmp/ipykernel_9540/2599647023.py:1: ElasticsearchWarning: Elasticsearch built-in security features are not enabled. Without authentication, your cluster could be accessible to anyone. See https://www.elastic.co/guide/en/elasticsearch/reference/7.17/security-minimal-setup.html to enable security.\n",
      "  es.indices.delete(index = \"dummy_index_1\")\n"
     ]
    },
    {
     "data": {
      "text/plain": [
       "ObjectApiResponse({'acknowledged': True})"
      ]
     },
     "execution_count": 15,
     "metadata": {},
     "output_type": "execute_result"
    }
   ],
   "source": [
    "es.indices.delete(index = \"dummy_index_1\")"
   ]
  },
  {
   "cell_type": "code",
   "execution_count": 4,
   "id": "9a38a2cf",
   "metadata": {},
   "outputs": [],
   "source": [
    "settings = {\n",
    "        \"number_of_shards\":5\n",
    "    }"
   ]
  },
  {
   "cell_type": "code",
   "execution_count": 7,
   "id": "2cd8bf34",
   "metadata": {},
   "outputs": [
    {
     "name": "stderr",
     "output_type": "stream",
     "text": [
      "/Users/astrobalaji/anaconda3/envs/semantic_search/lib/python3.8/site-packages/urllib3/connectionpool.py:1056: InsecureRequestWarning: Unverified HTTPS request is being made to host 'localhost'. Adding certificate verification is strongly advised. See: https://urllib3.readthedocs.io/en/1.26.x/advanced-usage.html#ssl-warnings\n",
      "  warnings.warn(\n"
     ]
    },
    {
     "data": {
      "text/plain": [
       "ObjectApiResponse({'acknowledged': True, 'shards_acknowledged': True, 'index': 'metis_dp_search'})"
      ]
     },
     "execution_count": 7,
     "metadata": {},
     "output_type": "execute_result"
    }
   ],
   "source": [
    "es.indices.create(index=\"metis_dp_search\")"
   ]
  },
  {
   "cell_type": "code",
   "execution_count": 17,
   "id": "27f01e22",
   "metadata": {},
   "outputs": [
    {
     "name": "stderr",
     "output_type": "stream",
     "text": [
      "/tmp/ipykernel_9540/3571346099.py:1: ElasticsearchWarning: Elasticsearch built-in security features are not enabled. Without authentication, your cluster could be accessible to anyone. See https://www.elastic.co/guide/en/elasticsearch/reference/7.17/security-minimal-setup.html to enable security.\n",
      "  es.indices.create(index = \"test_index\")\n"
     ]
    },
    {
     "data": {
      "text/plain": [
       "ObjectApiResponse({'acknowledged': True, 'shards_acknowledged': True, 'index': 'test_index'})"
      ]
     },
     "execution_count": 17,
     "metadata": {},
     "output_type": "execute_result"
    }
   ],
   "source": [
    "es.indices.create(index = \"test_index\")"
   ]
  },
  {
   "cell_type": "code",
   "execution_count": 19,
   "id": "e4101476",
   "metadata": {},
   "outputs": [],
   "source": [
    "test_doc = {\n",
    "    \"title\": \"Joby\",\n",
    "    \"description\": \"he's the rockstar!!\"\n",
    "}"
   ]
  },
  {
   "cell_type": "code",
   "execution_count": 21,
   "id": "b5cac845",
   "metadata": {},
   "outputs": [
    {
     "name": "stderr",
     "output_type": "stream",
     "text": [
      "/tmp/ipykernel_9540/2288605334.py:1: ElasticsearchWarning: Elasticsearch built-in security features are not enabled. Without authentication, your cluster could be accessible to anyone. See https://www.elastic.co/guide/en/elasticsearch/reference/7.17/security-minimal-setup.html to enable security.\n",
      "  es.index(index = \"test_index\", document = test_doc)\n"
     ]
    },
    {
     "data": {
      "text/plain": [
       "ObjectApiResponse({'_index': 'test_index', '_type': '_doc', '_id': 'DQhUPYsBaWvlsqm__w6f', '_version': 1, 'result': 'created', '_shards': {'total': 2, 'successful': 1, 'failed': 0}, '_seq_no': 0, '_primary_term': 1})"
      ]
     },
     "execution_count": 21,
     "metadata": {},
     "output_type": "execute_result"
    }
   ],
   "source": [
    "es.index(index = \"test_index\", document = test_doc)"
   ]
  },
  {
   "cell_type": "code",
   "execution_count": 22,
   "id": "3ee0109b",
   "metadata": {},
   "outputs": [],
   "source": [
    "es.search?"
   ]
  },
  {
   "cell_type": "code",
   "execution_count": 26,
   "id": "a8ebc8d5",
   "metadata": {},
   "outputs": [],
   "source": [
    "qr = {\"match_all\":{}}"
   ]
  },
  {
   "cell_type": "code",
   "execution_count": 30,
   "id": "d697078c",
   "metadata": {},
   "outputs": [
    {
     "name": "stderr",
     "output_type": "stream",
     "text": [
      "/tmp/ipykernel_9540/2337092653.py:1: ElasticsearchWarning: Elasticsearch built-in security features are not enabled. Without authentication, your cluster could be accessible to anyone. See https://www.elastic.co/guide/en/elasticsearch/reference/7.17/security-minimal-setup.html to enable security.\n",
      "  res = es.search(query = qr, index = \"test_index\")\n"
     ]
    }
   ],
   "source": [
    "res = es.search(query = qr, index = \"test_index\")"
   ]
  },
  {
   "cell_type": "code",
   "execution_count": 36,
   "id": "5e7be697",
   "metadata": {},
   "outputs": [
    {
     "data": {
      "text/plain": [
       "{'title': 'Joby', 'description': \"he's the rockstar!!\"}"
      ]
     },
     "execution_count": 36,
     "metadata": {},
     "output_type": "execute_result"
    }
   ],
   "source": [
    "res[\"hits\"][\"hits\"][0][\"_source\"]"
   ]
  },
  {
   "cell_type": "code",
   "execution_count": 43,
   "id": "d821cbf8",
   "metadata": {},
   "outputs": [
    {
     "data": {
      "text/plain": [
       "{'title': 'Joby', 'description': \"he's the rockstar!!\"}"
      ]
     },
     "execution_count": 43,
     "metadata": {},
     "output_type": "execute_result"
    }
   ],
   "source": [
    "dict(res)[\"hits\"][\"hits\"][0][\"_source\"]"
   ]
  },
  {
   "cell_type": "code",
   "execution_count": 45,
   "id": "a6d23c4e",
   "metadata": {},
   "outputs": [
    {
     "name": "stderr",
     "output_type": "stream",
     "text": [
      "/tmp/ipykernel_9540/1626204862.py:1: ElasticsearchWarning: Elasticsearch built-in security features are not enabled. Without authentication, your cluster could be accessible to anyone. See https://www.elastic.co/guide/en/elasticsearch/reference/7.17/security-minimal-setup.html to enable security.\n",
      "  es.indices.delete(index = \"test_index\")\n"
     ]
    },
    {
     "data": {
      "text/plain": [
       "ObjectApiResponse({'acknowledged': True})"
      ]
     },
     "execution_count": 45,
     "metadata": {},
     "output_type": "execute_result"
    }
   ],
   "source": [
    "es.indices.delete(index = \"test_index\")"
   ]
  },
  {
   "cell_type": "code",
   "execution_count": 46,
   "id": "60c1db83",
   "metadata": {},
   "outputs": [],
   "source": [
    "from elasticsearch.helpers import bulk"
   ]
  },
  {
   "cell_type": "code",
   "execution_count": 47,
   "id": "37a26515",
   "metadata": {},
   "outputs": [],
   "source": [
    "bulk?"
   ]
  },
  {
   "cell_type": "code",
   "execution_count": 48,
   "id": "50afbab8",
   "metadata": {},
   "outputs": [],
   "source": [
    "import pandas as pd"
   ]
  },
  {
   "cell_type": "code",
   "execution_count": 49,
   "id": "ec0dc0d8",
   "metadata": {},
   "outputs": [],
   "source": [
    "df = pd.read_html(\"https://en.wikipedia.org/wiki/List_of_ISO_3166_country_codes\")"
   ]
  },
  {
   "cell_type": "code",
   "execution_count": 9,
   "id": "efe7b91e",
   "metadata": {},
   "outputs": [],
   "source": [
    "import json"
   ]
  },
  {
   "cell_type": "code",
   "execution_count": 10,
   "id": "b8827ecc",
   "metadata": {},
   "outputs": [],
   "source": [
    "with open(\"combined_dataprod.json\") as f:\n",
    "    doc = json.load(f)"
   ]
  },
  {
   "cell_type": "code",
   "execution_count": 11,
   "id": "0f54d5fc",
   "metadata": {},
   "outputs": [
    {
     "data": {
      "text/plain": [
       "dict_keys(['title', 'description', 'title_vec', 'description_vec'])"
      ]
     },
     "execution_count": 11,
     "metadata": {},
     "output_type": "execute_result"
    }
   ],
   "source": [
    "doc.keys()"
   ]
  },
  {
   "cell_type": "code",
   "execution_count": 57,
   "id": "2776de02",
   "metadata": {},
   "outputs": [
    {
     "name": "stderr",
     "output_type": "stream",
     "text": [
      "/tmp/ipykernel_9540/1377089035.py:1: ElasticsearchWarning: Elasticsearch built-in security features are not enabled. Without authentication, your cluster could be accessible to anyone. See https://www.elastic.co/guide/en/elasticsearch/reference/7.17/security-minimal-setup.html to enable security.\n",
      "  es.indices.create(index = \"dp_test\")\n"
     ]
    },
    {
     "data": {
      "text/plain": [
       "ObjectApiResponse({'acknowledged': True, 'shards_acknowledged': True, 'index': 'dp_test'})"
      ]
     },
     "execution_count": 57,
     "metadata": {},
     "output_type": "execute_result"
    }
   ],
   "source": [
    "es.indices.create(index = \"dp_test\")"
   ]
  },
  {
   "cell_type": "code",
   "execution_count": 58,
   "id": "388dcccc",
   "metadata": {},
   "outputs": [
    {
     "name": "stderr",
     "output_type": "stream",
     "text": [
      "/tmp/ipykernel_9540/2000744501.py:1: ElasticsearchWarning: Elasticsearch built-in security features are not enabled. Without authentication, your cluster could be accessible to anyone. See https://www.elastic.co/guide/en/elasticsearch/reference/7.17/security-minimal-setup.html to enable security.\n",
      "  es.index(index = \"dp_test\", document = doc)\n"
     ]
    },
    {
     "data": {
      "text/plain": [
       "ObjectApiResponse({'_index': 'dp_test', '_type': '_doc', '_id': 'DghePYsBaWvlsqm_GQ6v', '_version': 1, 'result': 'created', '_shards': {'total': 2, 'successful': 1, 'failed': 0}, '_seq_no': 0, '_primary_term': 1})"
      ]
     },
     "execution_count": 58,
     "metadata": {},
     "output_type": "execute_result"
    }
   ],
   "source": [
    "es.index(index = \"dp_test\", document = doc)"
   ]
  },
  {
   "cell_type": "code",
   "execution_count": 61,
   "id": "42659b92",
   "metadata": {},
   "outputs": [
    {
     "name": "stderr",
     "output_type": "stream",
     "text": [
      "/tmp/ipykernel_9540/1771099122.py:1: ElasticsearchWarning: Elasticsearch built-in security features are not enabled. Without authentication, your cluster could be accessible to anyone. See https://www.elastic.co/guide/en/elasticsearch/reference/7.17/security-minimal-setup.html to enable security.\n",
      "  dict(es.indices.get_mapping(index = \"dp_test\"))[\"dp_test\"]\n"
     ]
    },
    {
     "data": {
      "text/plain": [
       "{'mappings': {'properties': {'description': {'type': 'text',\n",
       "    'fields': {'keyword': {'type': 'keyword', 'ignore_above': 256}}},\n",
       "   'description_vec': {'type': 'float'},\n",
       "   'title': {'type': 'text',\n",
       "    'fields': {'keyword': {'type': 'keyword', 'ignore_above': 256}}},\n",
       "   'title_vec': {'type': 'float'}}}}"
      ]
     },
     "execution_count": 61,
     "metadata": {},
     "output_type": "execute_result"
    }
   ],
   "source": [
    "dict(es.indices.get_mapping(index = \"dp_test\"))[\"dp_test\"]"
   ]
  },
  {
   "cell_type": "code",
   "execution_count": null,
   "id": "23a4b1e5",
   "metadata": {},
   "outputs": [],
   "source": [
    "mapping = {\n",
    "    \"mappings\":{\n",
    "        \"properties\":{\n",
    "            \"title\": {\"type\":\"text\"},\n",
    "            \"description\":{\"type\":\"text\"}\n",
    "        }\n",
    "    }\n",
    "}"
   ]
  },
  {
   "cell_type": "code",
   "execution_count": 63,
   "id": "72f0764f",
   "metadata": {},
   "outputs": [
    {
     "data": {
      "text/plain": [
       "384"
      ]
     },
     "execution_count": 63,
     "metadata": {},
     "output_type": "execute_result"
    }
   ],
   "source": [
    "len(doc[\"title_vec\"])"
   ]
  },
  {
   "cell_type": "code",
   "execution_count": 17,
   "id": "f2f75589",
   "metadata": {},
   "outputs": [],
   "source": [
    "mapping_out = {'properties': {'description': {'type': 'text',\n",
    "    'fields': {'keyword': {'type': 'keyword', 'ignore_above': 256}}},\n",
    "   'description_vec': {'type': 'dense_vector', 'dims':384},\n",
    "   'title': {'type': 'text',\n",
    "    'fields': {'keyword': {'type': 'keyword', 'ignore_above': 256}}},\n",
    "   'title_vec': {'type': 'dense_vector', 'dims':384}}}"
   ]
  },
  {
   "cell_type": "code",
   "execution_count": 15,
   "id": "84aab395-b6ce-4feb-9f14-0e0291c2422a",
   "metadata": {},
   "outputs": [
    {
     "data": {
      "text/plain": [
       "{'type': 'dense_vec', 'dims': 384}"
      ]
     },
     "execution_count": 15,
     "metadata": {},
     "output_type": "execute_result"
    }
   ],
   "source": [
    "mapping_out[\"properties\"][\"title_vec\"]"
   ]
  },
  {
   "cell_type": "code",
   "execution_count": 16,
   "id": "96dfe8cb-6205-4a5b-98a4-4f69cac1641e",
   "metadata": {},
   "outputs": [
    {
     "data": {
      "text/plain": [
       "{'type': 'dense_vec', 'dims': 384}"
      ]
     },
     "execution_count": 16,
     "metadata": {},
     "output_type": "execute_result"
    }
   ],
   "source": [
    "mapping_out[\"properties\"][\"description_vec\"]"
   ]
  },
  {
   "cell_type": "code",
   "execution_count": 18,
   "id": "4ef9e1bf",
   "metadata": {
    "scrolled": true
   },
   "outputs": [
    {
     "name": "stderr",
     "output_type": "stream",
     "text": [
      "/Users/astrobalaji/anaconda3/envs/semantic_search/lib/python3.8/site-packages/urllib3/connectionpool.py:1056: InsecureRequestWarning: Unverified HTTPS request is being made to host 'localhost'. Adding certificate verification is strongly advised. See: https://urllib3.readthedocs.io/en/1.26.x/advanced-usage.html#ssl-warnings\n",
      "  warnings.warn(\n"
     ]
    },
    {
     "data": {
      "text/plain": [
       "ObjectApiResponse({'acknowledged': True, 'shards_acknowledged': True, 'index': 'dp_test_1'})"
      ]
     },
     "execution_count": 18,
     "metadata": {},
     "output_type": "execute_result"
    }
   ],
   "source": [
    "es.indices.create(index = \"dp_test_1\", mappings=mapping_out)"
   ]
  },
  {
   "cell_type": "code",
   "execution_count": 19,
   "id": "87b3e8ca",
   "metadata": {},
   "outputs": [
    {
     "name": "stderr",
     "output_type": "stream",
     "text": [
      "/Users/astrobalaji/anaconda3/envs/semantic_search/lib/python3.8/site-packages/urllib3/connectionpool.py:1056: InsecureRequestWarning: Unverified HTTPS request is being made to host 'localhost'. Adding certificate verification is strongly advised. See: https://urllib3.readthedocs.io/en/1.26.x/advanced-usage.html#ssl-warnings\n",
      "  warnings.warn(\n"
     ]
    },
    {
     "data": {
      "text/plain": [
       "ObjectApiResponse({'_index': 'dp_test_1', '_id': 'iV_gSIsBlKtNqqT2E-K_', '_version': 1, 'result': 'created', '_shards': {'total': 2, 'successful': 1, 'failed': 0}, '_seq_no': 0, '_primary_term': 1})"
      ]
     },
     "execution_count": 19,
     "metadata": {},
     "output_type": "execute_result"
    }
   ],
   "source": [
    "es.index(index = \"dp_test_1\", document=doc)"
   ]
  },
  {
   "cell_type": "code",
   "execution_count": 36,
   "id": "a1023bfe-4781-4958-97c1-f8f8f675a63a",
   "metadata": {},
   "outputs": [],
   "source": [
    "test_phrase = \"ecommerce\""
   ]
  },
  {
   "cell_type": "code",
   "execution_count": 37,
   "id": "82e844f6-034c-4665-9c26-948999d3c247",
   "metadata": {
    "scrolled": true
   },
   "outputs": [],
   "source": [
    "from sentence_transformers import SentenceTransformer\n",
    "model = SentenceTransformer('all-MiniLM-L6-v2')"
   ]
  },
  {
   "cell_type": "code",
   "execution_count": 38,
   "id": "1ffcc136-4d0d-4615-906a-145d7d0d1ad8",
   "metadata": {},
   "outputs": [],
   "source": [
    "query_vec = model.encode(test_phrase)"
   ]
  },
  {
   "cell_type": "code",
   "execution_count": 39,
   "id": "05783af2-9a33-4b9c-82cd-884eff795a58",
   "metadata": {},
   "outputs": [
    {
     "data": {
      "text/plain": [
       "384"
      ]
     },
     "execution_count": 39,
     "metadata": {},
     "output_type": "execute_result"
    }
   ],
   "source": [
    "len(query_vec)"
   ]
  },
  {
   "cell_type": "code",
   "execution_count": 42,
   "id": "893980d7-5fa4-4b58-81cc-1e4883d0c492",
   "metadata": {},
   "outputs": [],
   "source": [
    "qr = {\n",
    "\"script_score\": {\n",
    "\"query\": {\"match_all\": {}},\n",
    "\"script\": {\n",
    "\"source\": \"cosineSimilarity(params.query_vector, 'title_vec') + 1.0\",\n",
    "\"params\": {\"query_vector\": query_vec}\n",
    "}\n",
    "}\n",
    "}"
   ]
  },
  {
   "cell_type": "code",
   "execution_count": 43,
   "id": "8a8e6409-22f0-4eee-ba3a-37ff03d3a5ee",
   "metadata": {},
   "outputs": [
    {
     "name": "stderr",
     "output_type": "stream",
     "text": [
      "/Users/astrobalaji/anaconda3/envs/semantic_search/lib/python3.8/site-packages/urllib3/connectionpool.py:1056: InsecureRequestWarning: Unverified HTTPS request is being made to host 'localhost'. Adding certificate verification is strongly advised. See: https://urllib3.readthedocs.io/en/1.26.x/advanced-usage.html#ssl-warnings\n",
      "  warnings.warn(\n"
     ]
    },
    {
     "data": {
      "text/plain": [
       "{'total': {'value': 1, 'relation': 'eq'},\n",
       " 'max_score': 1.3488992,\n",
       " 'hits': [{'_index': 'dp_test_1',\n",
       "   '_id': 'iV_gSIsBlKtNqqT2E-K_',\n",
       "   '_score': 1.3488992,\n",
       "   '_source': {'title': 'Customer_360',\n",
       "    'description': 'Customer data from various sources, enabling a holistic view of customers. ',\n",
       "    'title_vec': [-0.0750977098941803,\n",
       "     -0.032000958919525146,\n",
       "     -0.03437187150120735,\n",
       "     -0.054321449249982834,\n",
       "     0.009169877506792545,\n",
       "     -0.04182756319642067,\n",
       "     0.10451316833496094,\n",
       "     0.009180744178593159,\n",
       "     0.017489438876509666,\n",
       "     -0.06019215285778046,\n",
       "     0.07124654948711395,\n",
       "     -0.020160837098956108,\n",
       "     0.034009113907814026,\n",
       "     -0.02023700438439846,\n",
       "     0.03482156991958618,\n",
       "     -0.02517235279083252,\n",
       "     -0.0056594256311655045,\n",
       "     0.02753726951777935,\n",
       "     -0.10023246705532074,\n",
       "     0.006730086635798216,\n",
       "     -0.1408040076494217,\n",
       "     0.0020834109745919704,\n",
       "     -0.06547527760267258,\n",
       "     0.05336359515786171,\n",
       "     -0.05474458634853363,\n",
       "     0.041959114372730255,\n",
       "     0.007732254918664694,\n",
       "     0.05553324520587921,\n",
       "     -0.052701301872730255,\n",
       "     -0.044167377054691315,\n",
       "     0.005193445831537247,\n",
       "     0.03232532739639282,\n",
       "     0.11941839009523392,\n",
       "     0.006203310564160347,\n",
       "     0.04273542761802673,\n",
       "     -0.027671033516526222,\n",
       "     -0.06385061889886856,\n",
       "     -0.026103731244802475,\n",
       "     -0.08253176510334015,\n",
       "     -0.010413718409836292,\n",
       "     -0.059735074639320374,\n",
       "     -0.07561728358268738,\n",
       "     -0.025324931368231773,\n",
       "     0.023954125121235847,\n",
       "     0.045533981174230576,\n",
       "     0.026585401967167854,\n",
       "     -0.0061936331912875175,\n",
       "     0.03419651463627815,\n",
       "     0.08610271662473679,\n",
       "     0.05283179506659508,\n",
       "     -0.06541312485933304,\n",
       "     -0.008901802822947502,\n",
       "     -0.045873574912548065,\n",
       "     0.033693939447402954,\n",
       "     -0.04046029970049858,\n",
       "     0.0033843612764030695,\n",
       "     -0.022013669833540916,\n",
       "     -0.00348249776288867,\n",
       "     0.02943599782884121,\n",
       "     0.028087906539440155,\n",
       "     -0.009445486590266228,\n",
       "     -0.04213394597172737,\n",
       "     0.006628233008086681,\n",
       "     0.06060142442584038,\n",
       "     -0.03452727943658829,\n",
       "     -0.045289598405361176,\n",
       "     -0.1232633888721466,\n",
       "     -0.04645436257123947,\n",
       "     -0.032212741672992706,\n",
       "     -0.01945478655397892,\n",
       "     -0.06583931297063828,\n",
       "     0.0353676974773407,\n",
       "     -0.0365535132586956,\n",
       "     0.04050232842564583,\n",
       "     0.030122283846139908,\n",
       "     -0.003019987139850855,\n",
       "     0.011165167205035686,\n",
       "     -0.0034065747167915106,\n",
       "     0.05467766523361206,\n",
       "     0.0127591947093606,\n",
       "     0.016904201358556747,\n",
       "     -0.024471309036016464,\n",
       "     0.014979654923081398,\n",
       "     -0.015936996787786484,\n",
       "     -0.011816593818366528,\n",
       "     0.04519135132431984,\n",
       "     0.06613259762525558,\n",
       "     -0.014180311001837254,\n",
       "     -0.09239473938941956,\n",
       "     -0.0369686558842659,\n",
       "     0.02329675294458866,\n",
       "     0.08596731722354889,\n",
       "     0.06835770606994629,\n",
       "     -0.033758826553821564,\n",
       "     -0.17808395624160767,\n",
       "     0.014834712259471416,\n",
       "     0.05559675768017769,\n",
       "     -0.0935496985912323,\n",
       "     -0.061585914343595505,\n",
       "     0.14399488270282745,\n",
       "     -0.009316982701420784,\n",
       "     0.051319681107997894,\n",
       "     0.022069746628403664,\n",
       "     0.04044722020626068,\n",
       "     -0.02850339747965336,\n",
       "     0.01562814600765705,\n",
       "     -0.024502860382199287,\n",
       "     0.13904975354671478,\n",
       "     0.008310016244649887,\n",
       "     -0.0465221144258976,\n",
       "     -0.052762847393751144,\n",
       "     -0.022451424971222878,\n",
       "     -0.06976006925106049,\n",
       "     -0.032112568616867065,\n",
       "     0.11000054329633713,\n",
       "     -0.006253181025385857,\n",
       "     -0.03097471222281456,\n",
       "     0.07274072617292404,\n",
       "     0.10527804493904114,\n",
       "     -0.03698112815618515,\n",
       "     0.059568021446466446,\n",
       "     -0.005134334322065115,\n",
       "     -0.04261472821235657,\n",
       "     -0.06036446988582611,\n",
       "     -0.0729544386267662,\n",
       "     -0.08405768871307373,\n",
       "     0.03124876692891121,\n",
       "     -3.788126054440826e-33,\n",
       "     0.012283029966056347,\n",
       "     0.10519208759069443,\n",
       "     0.008507835678756237,\n",
       "     0.04095054417848587,\n",
       "     0.012082137167453766,\n",
       "     0.04202980920672417,\n",
       "     -0.0029889638535678387,\n",
       "     0.09529287368059158,\n",
       "     -0.013482394628226757,\n",
       "     0.0075739165768027306,\n",
       "     0.005857454147189856,\n",
       "     0.03714508190751076,\n",
       "     0.009122136048972607,\n",
       "     0.03649173676967621,\n",
       "     0.0016197969671338797,\n",
       "     0.075054831802845,\n",
       "     -0.009049895219504833,\n",
       "     -0.0017807685071602464,\n",
       "     -0.0383041612803936,\n",
       "     0.007730856072157621,\n",
       "     0.004813734441995621,\n",
       "     0.015389141626656055,\n",
       "     0.018846862018108368,\n",
       "     0.15125465393066406,\n",
       "     -0.007283656857907772,\n",
       "     0.029244791716337204,\n",
       "     0.08517048507928848,\n",
       "     -0.011926544830203056,\n",
       "     0.1181127279996872,\n",
       "     0.04107632860541344,\n",
       "     0.0355650894343853,\n",
       "     -0.007403580006211996,\n",
       "     -0.03196946159005165,\n",
       "     0.019404234364628792,\n",
       "     0.039314232766628265,\n",
       "     0.013414951041340828,\n",
       "     0.001996683655306697,\n",
       "     -0.10280226916074753,\n",
       "     -0.08802933990955353,\n",
       "     0.0259510800242424,\n",
       "     -0.06971102952957153,\n",
       "     0.015334834344685078,\n",
       "     -0.040984366089105606,\n",
       "     -0.02839076519012451,\n",
       "     -0.02464660257101059,\n",
       "     0.002531446749344468,\n",
       "     0.11578864604234695,\n",
       "     0.03758221119642258,\n",
       "     -0.03833570331335068,\n",
       "     0.02639053761959076,\n",
       "     0.008219106122851372,\n",
       "     0.023807698860764503,\n",
       "     -0.07986287027597427,\n",
       "     0.061583034694194794,\n",
       "     -0.06925981491804123,\n",
       "     -0.04205803945660591,\n",
       "     0.03010270744562149,\n",
       "     -0.016868509352207184,\n",
       "     -0.0265140850096941,\n",
       "     -0.09829509258270264,\n",
       "     0.05501054972410202,\n",
       "     -0.026976807042956352,\n",
       "     -0.018008612096309662,\n",
       "     -0.08794581145048141,\n",
       "     -0.052824266254901886,\n",
       "     -0.08969665318727493,\n",
       "     0.02572537027299404,\n",
       "     -0.0827842503786087,\n",
       "     0.08911686390638351,\n",
       "     -0.0076433937065303326,\n",
       "     0.019327253103256226,\n",
       "     0.05885063856840134,\n",
       "     0.011156855151057243,\n",
       "     0.03904087841510773,\n",
       "     -0.05091290548443794,\n",
       "     -0.016127891838550568,\n",
       "     -0.10799966007471085,\n",
       "     0.049903374165296555,\n",
       "     0.046943407505750656,\n",
       "     0.03307481110095978,\n",
       "     -0.0413513146340847,\n",
       "     0.006912969518452883,\n",
       "     -0.025749966502189636,\n",
       "     -0.0325603187084198,\n",
       "     0.010502651333808899,\n",
       "     0.04716727137565613,\n",
       "     -0.0023779922630637884,\n",
       "     -0.04387921839952469,\n",
       "     -0.045082759112119675,\n",
       "     -0.011440807022154331,\n",
       "     -0.09162668883800507,\n",
       "     0.0669219121336937,\n",
       "     0.09057952463626862,\n",
       "     0.09690245240926743,\n",
       "     -0.006133119110018015,\n",
       "     1.7337456179064153e-33,\n",
       "     -0.07117580622434616,\n",
       "     -0.028586098924279213,\n",
       "     -0.09443805366754532,\n",
       "     0.018913647159934044,\n",
       "     0.020932555198669434,\n",
       "     -0.03672557324171066,\n",
       "     0.04536175727844238,\n",
       "     0.05684228986501694,\n",
       "     -0.040289685130119324,\n",
       "     0.020225701853632927,\n",
       "     0.0014230794040486217,\n",
       "     -0.024506788700819016,\n",
       "     0.020503828302025795,\n",
       "     0.004281801171600819,\n",
       "     0.10051508992910385,\n",
       "     0.06314990669488907,\n",
       "     0.004181562922894955,\n",
       "     -0.060694389045238495,\n",
       "     -0.020287033170461655,\n",
       "     0.013371700420975685,\n",
       "     -0.06854046136140823,\n",
       "     0.006495582405477762,\n",
       "     -0.06416331231594086,\n",
       "     0.02189847268164158,\n",
       "     -0.0036791586317121983,\n",
       "     0.012453457340598106,\n",
       "     0.11263519525527954,\n",
       "     -0.0035217616241425276,\n",
       "     0.03164859861135483,\n",
       "     -0.060745719820261,\n",
       "     -0.01397064607590437,\n",
       "     0.029677703976631165,\n",
       "     -0.04196314513683319,\n",
       "     -0.004072967451065779,\n",
       "     -0.023194177076220512,\n",
       "     0.001440583262592554,\n",
       "     -0.05073489621281624,\n",
       "     0.07048805803060532,\n",
       "     -0.022155791521072388,\n",
       "     0.04799924045801163,\n",
       "     0.09028458595275879,\n",
       "     0.0027283290401101112,\n",
       "     -0.027385305613279343,\n",
       "     0.05421629548072815,\n",
       "     -0.03708454594016075,\n",
       "     -0.04757312312722206,\n",
       "     0.11169625073671341,\n",
       "     -0.03718508780002594,\n",
       "     0.09166639298200607,\n",
       "     0.09440141171216965,\n",
       "     -0.04374818131327629,\n",
       "     -0.06120229512453079,\n",
       "     0.028054749593138695,\n",
       "     0.04516330733895302,\n",
       "     -0.04562938213348389,\n",
       "     0.016604356467723846,\n",
       "     0.028927592560648918,\n",
       "     0.010421915911138058,\n",
       "     0.0854702740907669,\n",
       "     -0.027129070833325386,\n",
       "     0.009645495563745499,\n",
       "     0.009211496450006962,\n",
       "     0.006882515735924244,\n",
       "     0.07197465002536774,\n",
       "     0.02948874980211258,\n",
       "     -0.028513673692941666,\n",
       "     0.03785167634487152,\n",
       "     -0.020305443555116653,\n",
       "     -0.036557093262672424,\n",
       "     -0.07883332669734955,\n",
       "     0.021951494738459587,\n",
       "     -0.021195128560066223,\n",
       "     0.0004513873718678951,\n",
       "     0.005674921441823244,\n",
       "     0.01040447223931551,\n",
       "     -0.07256194949150085,\n",
       "     -0.04423661157488823,\n",
       "     -0.0656568631529808,\n",
       "     -0.03233709558844566,\n",
       "     -0.002147479448467493,\n",
       "     -0.04186372831463814,\n",
       "     -0.006931462325155735,\n",
       "     0.020512882620096207,\n",
       "     -0.001931092469021678,\n",
       "     -0.016071002930402756,\n",
       "     -0.10274047404527664,\n",
       "     0.13779154419898987,\n",
       "     0.024072419852018356,\n",
       "     -0.06445160508155823,\n",
       "     -0.025600967928767204,\n",
       "     0.007091015577316284,\n",
       "     0.05870647355914116,\n",
       "     -0.0319114625453949,\n",
       "     0.01800592429935932,\n",
       "     -0.025384970009326935,\n",
       "     -1.4835513262312361e-08,\n",
       "     0.054793596267700195,\n",
       "     0.0650668740272522,\n",
       "     0.029087601229548454,\n",
       "     0.040235597640275955,\n",
       "     0.06244952604174614,\n",
       "     -0.024427741765975952,\n",
       "     0.004690938629209995,\n",
       "     0.039461638778448105,\n",
       "     -0.02140388824045658,\n",
       "     0.03236842527985573,\n",
       "     -0.007105519063770771,\n",
       "     0.04159175232052803,\n",
       "     -0.006923168897628784,\n",
       "     0.075479656457901,\n",
       "     0.03995836526155472,\n",
       "     -0.0031918813474476337,\n",
       "     -0.03219499811530113,\n",
       "     0.007671213708817959,\n",
       "     -0.0034242509864270687,\n",
       "     -0.024747204035520554,\n",
       "     0.02307085320353508,\n",
       "     0.02506529539823532,\n",
       "     0.05466693639755249,\n",
       "     -0.06205083057284355,\n",
       "     0.004279256332665682,\n",
       "     0.066071517765522,\n",
       "     -0.014553534798324108,\n",
       "     0.05298515781760216,\n",
       "     0.009550981223583221,\n",
       "     -0.11699407547712326,\n",
       "     -0.028267832472920418,\n",
       "     0.027345901355147362,\n",
       "     0.017727652564644814,\n",
       "     -0.07611743360757828,\n",
       "     -0.02106752246618271,\n",
       "     -0.023060040548443794,\n",
       "     -0.06477300077676773,\n",
       "     -0.02667931839823723,\n",
       "     -0.009391910396516323,\n",
       "     -0.04556630924344063,\n",
       "     0.020173920318484306,\n",
       "     -0.001888744067400694,\n",
       "     0.012485272251069546,\n",
       "     -0.009793838486075401,\n",
       "     0.028837820515036583,\n",
       "     0.002216536784544587,\n",
       "     0.05553998425602913,\n",
       "     -0.07052154839038849,\n",
       "     -0.034391138702631,\n",
       "     0.01604282110929489,\n",
       "     -0.11820030957460403,\n",
       "     -0.02329539880156517,\n",
       "     0.07332982122898102,\n",
       "     0.01171057764440775,\n",
       "     -0.0017914309864863753,\n",
       "     -0.08243007957935333,\n",
       "     0.10989797115325928,\n",
       "     -0.001860937220044434,\n",
       "     -0.036596547812223434,\n",
       "     0.036192890256643295,\n",
       "     -0.004156071692705154,\n",
       "     0.027259375900030136,\n",
       "     -0.033759187906980515,\n",
       "     -0.03807111084461212],\n",
       "    'description_vec': [-0.05085040628910065,\n",
       "     0.005162314046174288,\n",
       "     -0.010977250523865223,\n",
       "     -0.024458948522806168,\n",
       "     -0.03164803236722946,\n",
       "     0.0006522801122628152,\n",
       "     0.03449610248208046,\n",
       "     -0.026663081720471382,\n",
       "     -0.04910816252231598,\n",
       "     -0.046908777207136154,\n",
       "     0.07797275483608246,\n",
       "     0.06258518248796463,\n",
       "     0.041736651211977005,\n",
       "     -0.07625961303710938,\n",
       "     0.07422856986522675,\n",
       "     0.001177213154733181,\n",
       "     0.07042918354272842,\n",
       "     0.010875671170651913,\n",
       "     -0.03518947586417198,\n",
       "     -0.06482990086078644,\n",
       "     -0.10053645074367523,\n",
       "     -0.006498273927718401,\n",
       "     -0.10245606303215027,\n",
       "     0.04370143264532089,\n",
       "     -0.01952388323843479,\n",
       "     0.061626069247722626,\n",
       "     0.04467315599322319,\n",
       "     0.025295516476035118,\n",
       "     -0.00405675545334816,\n",
       "     -0.0229417085647583,\n",
       "     0.040221378207206726,\n",
       "     0.07984502613544464,\n",
       "     0.07351333647966385,\n",
       "     0.028460973873734474,\n",
       "     -0.06935624033212662,\n",
       "     -0.008073722012341022,\n",
       "     -0.02675827592611313,\n",
       "     0.08066247403621674,\n",
       "     -0.02197868935763836,\n",
       "     0.020809678360819817,\n",
       "     -0.02128412574529648,\n",
       "     0.004457774106413126,\n",
       "     -0.063754603266716,\n",
       "     0.048849672079086304,\n",
       "     0.022308120504021645,\n",
       "     -0.017739713191986084,\n",
       "     -0.0013981149531900883,\n",
       "     0.00934770330786705,\n",
       "     0.02018004283308983,\n",
       "     0.10983635485172272,\n",
       "     -0.1569431722164154,\n",
       "     0.01679724082350731,\n",
       "     0.02805573306977749,\n",
       "     0.034785196185112,\n",
       "     0.006234841421246529,\n",
       "     0.00396525114774704,\n",
       "     -0.026687398552894592,\n",
       "     -0.03668989613652229,\n",
       "     -0.0006656967452727258,\n",
       "     0.034284818917512894,\n",
       "     -0.015933465212583542,\n",
       "     -0.05368609353899956,\n",
       "     -0.04201452061533928,\n",
       "     0.0734018087387085,\n",
       "     0.025545652955770493,\n",
       "     0.002568789990618825,\n",
       "     -0.05751561373472214,\n",
       "     0.05750551447272301,\n",
       "     -0.028994452208280563,\n",
       "     -0.0679258480668068,\n",
       "     -0.0068174065090715885,\n",
       "     0.02444295585155487,\n",
       "     -0.02078406512737274,\n",
       "     0.02957623079419136,\n",
       "     -0.020406313240528107,\n",
       "     -0.02166610024869442,\n",
       "     -0.021912571042776108,\n",
       "     -0.03330182656645775,\n",
       "     0.07299090176820755,\n",
       "     -0.01698467507958412,\n",
       "     0.03335796669125557,\n",
       "     0.04385947808623314,\n",
       "     0.016225116327404976,\n",
       "     0.04570568725466728,\n",
       "     -0.005366411525756121,\n",
       "     -0.045408643782138824,\n",
       "     0.05545063689351082,\n",
       "     -0.04895739257335663,\n",
       "     -0.11691807210445404,\n",
       "     -0.049337055534124374,\n",
       "     -0.00825866311788559,\n",
       "     0.029436243698000908,\n",
       "     0.03888706862926483,\n",
       "     0.004047160968184471,\n",
       "     0.00975425448268652,\n",
       "     0.008092202246189117,\n",
       "     0.005575817544013262,\n",
       "     -0.10193740576505661,\n",
       "     0.07225087285041809,\n",
       "     0.035752203315496445,\n",
       "     -0.0340709388256073,\n",
       "     0.05047033354640007,\n",
       "     -0.0013375977287068963,\n",
       "     0.04761534556746483,\n",
       "     -0.06929565221071243,\n",
       "     -0.11171311140060425,\n",
       "     0.02674533613026142,\n",
       "     0.0851275771856308,\n",
       "     -0.019407030194997787,\n",
       "     0.026490498334169388,\n",
       "     -0.10603469610214233,\n",
       "     0.0003342851996421814,\n",
       "     -0.08638903498649597,\n",
       "     -0.11606057733297348,\n",
       "     0.043585728853940964,\n",
       "     -0.09828829020261765,\n",
       "     -0.030405458062887192,\n",
       "     0.04049067944288254,\n",
       "     -0.012531677260994911,\n",
       "     0.01762334629893303,\n",
       "     -0.02251250669360161,\n",
       "     0.05153468996286392,\n",
       "     0.04617079719901085,\n",
       "     -0.024326127022504807,\n",
       "     -0.01319747231900692,\n",
       "     -0.026121119037270546,\n",
       "     -0.005043217446655035,\n",
       "     -1.8204047144879652e-33,\n",
       "     -0.027845222502946854,\n",
       "     0.08408396691083908,\n",
       "     0.05308059602975845,\n",
       "     -0.005321612115949392,\n",
       "     -0.023471953347325325,\n",
       "     -0.003337948117405176,\n",
       "     -0.05041641741991043,\n",
       "     -0.016874024644494057,\n",
       "     -0.01695750467479229,\n",
       "     0.060236480087041855,\n",
       "     0.023678243160247803,\n",
       "     0.12230648845434189,\n",
       "     0.010230728425085545,\n",
       "     0.03935036063194275,\n",
       "     0.0032974265050143003,\n",
       "     0.04116867482662201,\n",
       "     -0.07027116417884827,\n",
       "     0.09211654961109161,\n",
       "     0.049995582550764084,\n",
       "     -0.0069127557799220085,\n",
       "     0.04759759083390236,\n",
       "     -0.032105814665555954,\n",
       "     0.030904941260814667,\n",
       "     0.06408704072237015,\n",
       "     0.016471825540065765,\n",
       "     -0.06775698065757751,\n",
       "     0.05073024332523346,\n",
       "     0.10614097118377686,\n",
       "     0.04201997071504593,\n",
       "     -0.0017223055474460125,\n",
       "     0.09091797471046448,\n",
       "     -0.041671935468912125,\n",
       "     -0.008172203786671162,\n",
       "     -0.04024199768900871,\n",
       "     -0.02524181269109249,\n",
       "     0.02694324590265751,\n",
       "     -0.051353760063648224,\n",
       "     -0.09666647762060165,\n",
       "     0.010761736892163754,\n",
       "     0.027877118438482285,\n",
       "     -0.018900522962212563,\n",
       "     0.05416207015514374,\n",
       "     0.07373910397291183,\n",
       "     -0.03100292943418026,\n",
       "     -0.08159876614809036,\n",
       "     0.14119425415992737,\n",
       "     -0.03893784061074257,\n",
       "     -0.005310792941600084,\n",
       "     -0.06987233459949493,\n",
       "     0.020795943215489388,\n",
       "     -0.010403887368738651,\n",
       "     0.0055162059143185616,\n",
       "     0.002469603670760989,\n",
       "     0.08860260248184204,\n",
       "     -0.07158047705888748,\n",
       "     0.0547356940805912,\n",
       "     0.018302734941244125,\n",
       "     -0.0908939391374588,\n",
       "     0.009326559491455555,\n",
       "     -0.006297924555838108,\n",
       "     -0.04461304843425751,\n",
       "     -0.05605294555425644,\n",
       "     0.017015503719449043,\n",
       "     -0.06601276993751526,\n",
       "     -0.010120834223926067,\n",
       "     -0.002552620368078351,\n",
       "     0.001470627961680293,\n",
       "     -0.08036306500434875,\n",
       "     0.05894073471426964,\n",
       "     0.06408398598432541,\n",
       "     -0.025501804426312447,\n",
       "     -0.009515569545328617,\n",
       "     0.003144302871078253,\n",
       "     0.02027781680226326,\n",
       "     -0.07856802642345428,\n",
       "     0.01667715422809124,\n",
       "     -0.10880347341299057,\n",
       "     -0.009330516681075096,\n",
       "     0.01155773364007473,\n",
       "     0.060757532715797424,\n",
       "     -0.02692946419119835,\n",
       "     -0.05047636851668358,\n",
       "     0.051301851868629456,\n",
       "     0.03240969777107239,\n",
       "     0.07347556948661804,\n",
       "     0.08652601391077042,\n",
       "     0.016431408002972603,\n",
       "     -0.08334646373987198,\n",
       "     -0.07278244942426682,\n",
       "     0.02076471596956253,\n",
       "     -0.05568275600671768,\n",
       "     0.09158720821142197,\n",
       "     -0.03232544660568237,\n",
       "     0.015594575554132462,\n",
       "     0.02413749508559704,\n",
       "     1.1757042867665047e-33,\n",
       "     -0.033625971525907516,\n",
       "     0.0241185761988163,\n",
       "     -0.036869000643491745,\n",
       "     0.08530762046575546,\n",
       "     0.028885209932923317,\n",
       "     0.04784755781292915,\n",
       "     -0.05880272015929222,\n",
       "     -0.004061521962285042,\n",
       "     -0.012104706838726997,\n",
       "     0.06023160368204117,\n",
       "     -0.041636645793914795,\n",
       "     -0.08130042999982834,\n",
       "     0.027335412800312042,\n",
       "     -0.06181054189801216,\n",
       "     -0.050310734659433365,\n",
       "     0.07949432730674744,\n",
       "     0.05606100335717201,\n",
       "     -0.04373616725206375,\n",
       "     -0.02759239263832569,\n",
       "     -0.03237375617027283,\n",
       "     -0.02451365813612938,\n",
       "     0.010800239630043507,\n",
       "     -0.09933262318372726,\n",
       "     -0.012140896171331406,\n",
       "     0.061705902218818665,\n",
       "     0.047025084495544434,\n",
       "     -0.02595960535109043,\n",
       "     -0.02187708392739296,\n",
       "     -0.024040214717388153,\n",
       "     -0.03654307872056961,\n",
       "     -0.07162992656230927,\n",
       "     -0.06587022542953491,\n",
       "     -0.015061214566230774,\n",
       "     -0.04168447107076645,\n",
       "     -0.08794920146465302,\n",
       "     0.04556554928421974,\n",
       "     -0.0043511646799743176,\n",
       "     0.0762343779206276,\n",
       "     0.009815989062190056,\n",
       "     0.0663648173213005,\n",
       "     0.00807766430079937,\n",
       "     0.0014096040977165103,\n",
       "     0.001093612634576857,\n",
       "     -0.016938505694270134,\n",
       "     -0.021697232499718666,\n",
       "     -0.03224678337574005,\n",
       "     0.01037075649946928,\n",
       "     0.013931715860962868,\n",
       "     -0.037712033838033676,\n",
       "     0.018703613430261612,\n",
       "     0.0010948252165690064,\n",
       "     -0.009273498319089413,\n",
       "     0.016999881714582443,\n",
       "     -0.012461056001484394,\n",
       "     1.7133710571215488e-05,\n",
       "     -0.023309379816055298,\n",
       "     0.0869952067732811,\n",
       "     0.022304637357592583,\n",
       "     0.08545380085706711,\n",
       "     0.030744940042495728,\n",
       "     0.032484132796525955,\n",
       "     -0.023795662447810173,\n",
       "     0.03206722065806389,\n",
       "     0.09948108345270157,\n",
       "     -0.008511815220117569,\n",
       "     -0.06498171389102936,\n",
       "     0.038558997213840485,\n",
       "     -0.029292453080415726,\n",
       "     -0.06885597109794617,\n",
       "     -0.06739486008882523,\n",
       "     -0.0272287018597126,\n",
       "     -0.04565627872943878,\n",
       "     -0.013461394235491753,\n",
       "     -3.8141224649734795e-05,\n",
       "     -0.018146125599741936,\n",
       "     -0.006190921645611525,\n",
       "     -0.06483695656061172,\n",
       "     -0.019847190007567406,\n",
       "     -0.03778187930583954,\n",
       "     0.01918664574623108,\n",
       "     0.02895990014076233,\n",
       "     -0.06689585745334625,\n",
       "     0.08217263966798782,\n",
       "     0.10857325792312622,\n",
       "     0.035553593188524246,\n",
       "     -0.05983925610780716,\n",
       "     0.06975743919610977,\n",
       "     -0.06296861171722412,\n",
       "     0.0574263334274292,\n",
       "     -0.07059910148382187,\n",
       "     -0.09258022904396057,\n",
       "     0.039065372198820114,\n",
       "     -0.12884074449539185,\n",
       "     0.05103512480854988,\n",
       "     0.014499800279736519,\n",
       "     -2.3150329653276458e-08,\n",
       "     -0.04877505823969841,\n",
       "     -0.0821504294872284,\n",
       "     -0.0005297021707519889,\n",
       "     0.07050809264183044,\n",
       "     0.003277409356087446,\n",
       "     -0.0212688185274601,\n",
       "     0.0027065712492913008,\n",
       "     0.1263841837644577,\n",
       "     -0.038247719407081604,\n",
       "     0.03419804573059082,\n",
       "     0.022101296111941338,\n",
       "     0.031334057450294495,\n",
       "     -0.09107843041419983,\n",
       "     0.051159441471099854,\n",
       "     0.11907795816659927,\n",
       "     0.03550505265593529,\n",
       "     0.03227187320590019,\n",
       "     -0.03903384134173393,\n",
       "     -0.022753505036234856,\n",
       "     0.01764410175383091,\n",
       "     0.014452478848397732,\n",
       "     0.0734408050775528,\n",
       "     0.014362198300659657,\n",
       "     -0.00013903947547078133,\n",
       "     0.15387728810310364,\n",
       "     0.026673519983887672,\n",
       "     0.01372900977730751,\n",
       "     0.040397047996520996,\n",
       "     0.061109382659196854,\n",
       "     -0.11073281615972519,\n",
       "     -0.018125051632523537,\n",
       "     -0.02335425652563572,\n",
       "     0.038919780403375626,\n",
       "     -0.06999201327562332,\n",
       "     0.013313185423612595,\n",
       "     0.0028373724780976772,\n",
       "     -0.013482869602739811,\n",
       "     -0.02245892770588398,\n",
       "     -0.08043435215950012,\n",
       "     -0.06612687557935715,\n",
       "     -0.0038376206066459417,\n",
       "     0.06004348024725914,\n",
       "     -0.027083763852715492,\n",
       "     0.055446188896894455,\n",
       "     0.019550751894712448,\n",
       "     0.03290370851755142,\n",
       "     0.017599767073988914,\n",
       "     0.05667852610349655,\n",
       "     -0.005999668501317501,\n",
       "     0.06483495980501175,\n",
       "     -0.03581146150827408,\n",
       "     -0.040229443460702896,\n",
       "     0.11812403053045273,\n",
       "     0.007196993101388216,\n",
       "     -0.03441133350133896,\n",
       "     -0.04579334333539009,\n",
       "     -0.004099901765584946,\n",
       "     0.004307164344936609,\n",
       "     0.051549818366765976,\n",
       "     0.013045606203377247,\n",
       "     0.04976588115096092,\n",
       "     0.04262666031718254,\n",
       "     -0.019139202311635017,\n",
       "     0.004262671340256929]}}]}"
      ]
     },
     "execution_count": 43,
     "metadata": {},
     "output_type": "execute_result"
    }
   ],
   "source": [
    "es.search(query=qr, index = \"dp_test_1\")[\"hits\"]"
   ]
  },
  {
   "cell_type": "code",
   "execution_count": null,
   "id": "6ffe7be8-00d2-4da3-aeab-8acd4639bf19",
   "metadata": {},
   "outputs": [],
   "source": []
  }
 ],
 "metadata": {
  "kernelspec": {
   "display_name": "Python 3 (ipykernel)",
   "language": "python",
   "name": "python3"
  },
  "language_info": {
   "codemirror_mode": {
    "name": "ipython",
    "version": 3
   },
   "file_extension": ".py",
   "mimetype": "text/x-python",
   "name": "python",
   "nbconvert_exporter": "python",
   "pygments_lexer": "ipython3",
   "version": "3.8.18"
  }
 },
 "nbformat": 4,
 "nbformat_minor": 5
}
