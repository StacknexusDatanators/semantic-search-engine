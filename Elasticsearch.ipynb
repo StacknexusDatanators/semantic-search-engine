{
 "cells": [
  {
   "cell_type": "code",
   "execution_count": 47,
   "id": "b823a83c",
   "metadata": {},
   "outputs": [],
   "source": [
    "from elasticsearch import Elasticsearch\n",
    "import json\n",
    "from sentence_transformers import SentenceTransformer\n",
    "model = SentenceTransformer('all-MiniLM-L6-v2')\n",
    "import warnings\n",
    "warnings.filterwarnings(\"ignore\")"
   ]
  },
  {
   "cell_type": "code",
   "execution_count": 48,
   "id": "08a2045c",
   "metadata": {},
   "outputs": [],
   "source": [
    "es = Elasticsearch(\"https://localhost:9200\", basic_auth=(\"elastic\", \"Data_is_Lyfe\"), verify_certs=False)"
   ]
  },
  {
   "cell_type": "markdown",
   "id": "7e4d4176",
   "metadata": {},
   "source": [
    "# Indexing in Elasticsearch"
   ]
  },
  {
   "cell_type": "markdown",
   "id": "62c6999e",
   "metadata": {},
   "source": [
    "# Retail DP"
   ]
  },
  {
   "cell_type": "code",
   "execution_count": 49,
   "id": "b8827ecc",
   "metadata": {},
   "outputs": [],
   "source": [
    "with open(\"combined_retail.json\") as f:\n",
    "    doc = json.load(f)"
   ]
  },
  {
   "cell_type": "code",
   "execution_count": 50,
   "id": "0f54d5fc",
   "metadata": {},
   "outputs": [
    {
     "data": {
      "text/plain": [
       "dict_keys(['title', 'owner', 'tier', 'version', 'version_date', 'description', 'tags', 'Health', 'governance', 'stacks', 'document', 'data_sources', 'title_vec', 'description_vec'])"
      ]
     },
     "execution_count": 50,
     "metadata": {},
     "output_type": "execute_result"
    }
   ],
   "source": [
    "doc.keys()"
   ]
  },
  {
   "cell_type": "code",
   "execution_count": 51,
   "id": "72f0764f",
   "metadata": {},
   "outputs": [
    {
     "data": {
      "text/plain": [
       "384"
      ]
     },
     "execution_count": 51,
     "metadata": {},
     "output_type": "execute_result"
    }
   ],
   "source": [
    "len(doc[\"title_vec\"])"
   ]
  },
  {
   "cell_type": "code",
   "execution_count": 52,
   "id": "f2f75589",
   "metadata": {},
   "outputs": [],
   "source": [
    "mapping_out = {'properties': {'description': {'type': 'text',\n",
    "    'fields': {'keyword': {'type': 'keyword', 'ignore_above': 256}}},\n",
    "   'description_vec': {'type': 'dense_vector', 'dims':384},\n",
    "   'title': {'type': 'text',\n",
    "    'fields': {'keyword': {'type': 'keyword', 'ignore_above': 256}}},\n",
    "   'title_vec': {'type': 'dense_vector', 'dims':384}}}"
   ]
  },
  {
   "cell_type": "code",
   "execution_count": 53,
   "id": "84aab395-b6ce-4feb-9f14-0e0291c2422a",
   "metadata": {},
   "outputs": [
    {
     "data": {
      "text/plain": [
       "{'type': 'dense_vector', 'dims': 384}"
      ]
     },
     "execution_count": 53,
     "metadata": {},
     "output_type": "execute_result"
    }
   ],
   "source": [
    "mapping_out[\"properties\"][\"title_vec\"]"
   ]
  },
  {
   "cell_type": "code",
   "execution_count": 54,
   "id": "96dfe8cb-6205-4a5b-98a4-4f69cac1641e",
   "metadata": {},
   "outputs": [
    {
     "data": {
      "text/plain": [
       "{'type': 'dense_vector', 'dims': 384}"
      ]
     },
     "execution_count": 54,
     "metadata": {},
     "output_type": "execute_result"
    }
   ],
   "source": [
    "mapping_out[\"properties\"][\"description_vec\"]"
   ]
  },
  {
   "cell_type": "code",
   "execution_count": 55,
   "id": "4ef9e1bf",
   "metadata": {},
   "outputs": [
    {
     "data": {
      "text/plain": [
       "ObjectApiResponse({'acknowledged': True, 'shards_acknowledged': True, 'index': 'dp_test_1'})"
      ]
     },
     "execution_count": 55,
     "metadata": {},
     "output_type": "execute_result"
    }
   ],
   "source": [
    "es.indices.create(index = \"dp_test_1\", mappings=mapping_out)"
   ]
  },
  {
   "cell_type": "code",
   "execution_count": 56,
   "id": "87b3e8ca",
   "metadata": {},
   "outputs": [
    {
     "data": {
      "text/plain": [
       "ObjectApiResponse({'_index': 'dp_test_1', '_id': '6nM5ZosB_R56sph9g_wI', '_version': 1, 'result': 'created', '_shards': {'total': 2, 'successful': 1, 'failed': 0}, '_seq_no': 0, '_primary_term': 1})"
      ]
     },
     "execution_count": 56,
     "metadata": {},
     "output_type": "execute_result"
    }
   ],
   "source": [
    "es.index(index = \"dp_test_1\", document=doc)"
   ]
  },
  {
   "cell_type": "markdown",
   "id": "74e57dc5",
   "metadata": {},
   "source": [
    "# Finance DP"
   ]
  },
  {
   "cell_type": "code",
   "execution_count": 57,
   "id": "f2dbb9e1",
   "metadata": {},
   "outputs": [],
   "source": [
    "with open(\"combined_finance.json\") as f:\n",
    "    fin_doc = json.load(f)"
   ]
  },
  {
   "cell_type": "code",
   "execution_count": 58,
   "id": "d8b0ead5",
   "metadata": {},
   "outputs": [],
   "source": [
    "fin_out = {}\n",
    "fin_out[\"title\"] = fin_doc[\"title\"]\n",
    "fin_out[\"description\"] = fin_doc[\"description\"]\n",
    "fin_out[\"title_vec\"] = fin_doc[\"title_vec\"]\n",
    "fin_out[\"description_vec\"] = fin_doc[\"description_vec\"]"
   ]
  },
  {
   "cell_type": "code",
   "execution_count": 59,
   "id": "306b6713",
   "metadata": {},
   "outputs": [
    {
     "data": {
      "text/plain": [
       "ObjectApiResponse({'_index': 'dp_test_1', '_id': '63M5ZosB_R56sph9pfz3', '_version': 1, 'result': 'created', '_shards': {'total': 2, 'successful': 1, 'failed': 0}, '_seq_no': 1, '_primary_term': 1})"
      ]
     },
     "execution_count": 59,
     "metadata": {},
     "output_type": "execute_result"
    }
   ],
   "source": [
    "es.index(index = \"dp_test_1\", document=fin_out)"
   ]
  },
  {
   "cell_type": "markdown",
   "id": "34e57f26",
   "metadata": {},
   "source": [
    "# Healthcare DP"
   ]
  },
  {
   "cell_type": "code",
   "execution_count": 60,
   "id": "350c226d",
   "metadata": {},
   "outputs": [],
   "source": [
    "with open(\"combined_health.json\") as f:\n",
    "    health_doc = json.load(f)"
   ]
  },
  {
   "cell_type": "code",
   "execution_count": 61,
   "id": "5bf1bb29",
   "metadata": {},
   "outputs": [],
   "source": [
    "health_out = {}\n",
    "health_out[\"title\"] = health_doc[\"title\"]\n",
    "health_out[\"description\"] = health_doc[\"description\"]\n",
    "health_out[\"title_vec\"] = health_doc[\"title_vec\"]\n",
    "health_out[\"description_vec\"] = health_doc[\"description_vec\"]"
   ]
  },
  {
   "cell_type": "code",
   "execution_count": 62,
   "id": "75ec3fa7",
   "metadata": {},
   "outputs": [
    {
     "data": {
      "text/plain": [
       "ObjectApiResponse({'_index': 'dp_test_1', '_id': '7HM5ZosB_R56sph9svyf', '_version': 1, 'result': 'created', '_shards': {'total': 2, 'successful': 1, 'failed': 0}, '_seq_no': 2, '_primary_term': 1})"
      ]
     },
     "execution_count": 62,
     "metadata": {},
     "output_type": "execute_result"
    }
   ],
   "source": [
    "es.index(index = \"dp_test_1\", document=health_out)"
   ]
  },
  {
   "cell_type": "markdown",
   "id": "438167fb",
   "metadata": {},
   "source": [
    "# -"
   ]
  },
  {
   "cell_type": "code",
   "execution_count": 63,
   "id": "c1fe0780",
   "metadata": {},
   "outputs": [],
   "source": [
    "query_phrase = \"retail\""
   ]
  },
  {
   "cell_type": "code",
   "execution_count": 64,
   "id": "4ad9b841",
   "metadata": {},
   "outputs": [],
   "source": [
    "qr_vec = model.encode(query_phrase)"
   ]
  },
  {
   "cell_type": "code",
   "execution_count": 65,
   "id": "949331c1",
   "metadata": {},
   "outputs": [],
   "source": [
    "qr = {\n",
    "\"script_score\": {\n",
    "\"query\": {\"match_all\": {}},\n",
    "\"script\": {\n",
    "\"source\": \"2*(cosineSimilarity(params.query_vector, 'title_vec') + 1.0) + (cosineSimilarity(params.query_vector, 'description_vec') + 1.0)\",\n",
    "\"params\": {\"query_vector\": qr_vec}\n",
    "}\n",
    "}\n",
    "}"
   ]
  },
  {
   "cell_type": "code",
   "execution_count": 66,
   "id": "354aa2f1",
   "metadata": {
    "scrolled": false
   },
   "outputs": [],
   "source": [
    "search_res = [{\"title\":t[\"_source\"][\"title\"], \"score\":t[\"_score\"]} for t in es.search(query=qr, index = \"dp_test_1\")[\"hits\"][\"hits\"]]"
   ]
  },
  {
   "cell_type": "code",
   "execution_count": 67,
   "id": "20cb662b",
   "metadata": {},
   "outputs": [
    {
     "data": {
      "text/plain": [
       "[{'title': 'Customer_360', 'score': 3.930916},\n",
       " {'title': 'Banking_360', 'score': 3.7013264},\n",
       " {'title': 'Healthcare_360', 'score': 3.484863}]"
      ]
     },
     "execution_count": 67,
     "metadata": {},
     "output_type": "execute_result"
    }
   ],
   "source": [
    "search_res"
   ]
  },
  {
   "cell_type": "code",
   "execution_count": 68,
   "id": "a1023bfe-4781-4958-97c1-f8f8f675a63a",
   "metadata": {},
   "outputs": [],
   "source": [
    "test_phrase = \"ecommerce\""
   ]
  },
  {
   "cell_type": "code",
   "execution_count": 69,
   "id": "1ffcc136-4d0d-4615-906a-145d7d0d1ad8",
   "metadata": {},
   "outputs": [],
   "source": [
    "query_vec = model.encode(test_phrase)"
   ]
  },
  {
   "cell_type": "code",
   "execution_count": 70,
   "id": "05783af2-9a33-4b9c-82cd-884eff795a58",
   "metadata": {},
   "outputs": [
    {
     "data": {
      "text/plain": [
       "384"
      ]
     },
     "execution_count": 70,
     "metadata": {},
     "output_type": "execute_result"
    }
   ],
   "source": [
    "len(query_vec)"
   ]
  },
  {
   "cell_type": "code",
   "execution_count": 71,
   "id": "893980d7-5fa4-4b58-81cc-1e4883d0c492",
   "metadata": {},
   "outputs": [],
   "source": [
    "qr = {\n",
    "\"script_score\": {\n",
    "\"query\": {\"match_all\": {}},\n",
    "\"script\": {\n",
    "\"source\": \"2*(cosineSimilarity(params.query_vector, 'title_vec') + 1.0) + (cosineSimilarity(params.query_vector, 'description_vec') + 1.0)\",\n",
    "\"params\": {\"query_vector\": query_vec}\n",
    "}\n",
    "}\n",
    "}"
   ]
  },
  {
   "cell_type": "code",
   "execution_count": 72,
   "id": "ad086fe9",
   "metadata": {},
   "outputs": [],
   "source": [
    "word_res = [{\"title\":t[\"_source\"][\"title\"], \"score\":t[\"_score\"]} for t in es.search(query=qr, index = \"dp_test_1\")[\"hits\"][\"hits\"]]"
   ]
  },
  {
   "cell_type": "code",
   "execution_count": 73,
   "id": "7b67974d",
   "metadata": {},
   "outputs": [
    {
     "data": {
      "text/plain": [
       "[{'title': 'Banking_360', 'score': 4.0541496},\n",
       " {'title': 'Customer_360', 'score': 4.023537},\n",
       " {'title': 'Healthcare_360', 'score': 3.4357421}]"
      ]
     },
     "execution_count": 73,
     "metadata": {},
     "output_type": "execute_result"
    }
   ],
   "source": [
    "word_res"
   ]
  },
  {
   "cell_type": "code",
   "execution_count": null,
   "id": "6708195a",
   "metadata": {},
   "outputs": [],
   "source": []
  }
 ],
 "metadata": {
  "kernelspec": {
   "display_name": "Python 3 (ipykernel)",
   "language": "python",
   "name": "python3"
  },
  "language_info": {
   "codemirror_mode": {
    "name": "ipython",
    "version": 3
   },
   "file_extension": ".py",
   "mimetype": "text/x-python",
   "name": "python",
   "nbconvert_exporter": "python",
   "pygments_lexer": "ipython3",
   "version": "3.11.5"
  }
 },
 "nbformat": 4,
 "nbformat_minor": 5
}
