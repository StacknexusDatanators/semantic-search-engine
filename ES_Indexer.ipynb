{
 "cells": [
  {
   "cell_type": "code",
   "execution_count": 1,
   "id": "d40ee2d7-9144-4be0-9128-ac13762d588d",
   "metadata": {},
   "outputs": [],
   "source": [
    "from elasticsearch import Elasticsearch\n",
    "import json\n",
    "from sentence_transformers import SentenceTransformer\n",
    "model = SentenceTransformer('all-MiniLM-L6-v2')"
   ]
  },
  {
   "cell_type": "code",
   "execution_count": 10,
   "id": "3d3d4eaa-d5eb-40e3-83a2-c0dcdc9ebdb2",
   "metadata": {},
   "outputs": [
    {
     "name": "stderr",
     "output_type": "stream",
     "text": [
      "/Users/astrobalaji/anaconda3/envs/semantic_search/lib/python3.8/site-packages/elasticsearch/_sync/client/__init__.py:397: SecurityWarning: Connecting to 'https://localhost:9200' using TLS with verify_certs=False is insecure\n",
      "  _transport = transport_class(\n"
     ]
    }
   ],
   "source": [
    "es = Elasticsearch(\"https://localhost:9200\", basic_auth=(\"elastic\", \"Data_is_Lyfe\"), verify_certs=False)"
   ]
  },
  {
   "cell_type": "markdown",
   "id": "0c76a4dc-5120-44a7-bd36-6ec8104a320f",
   "metadata": {},
   "source": [
    "# Finance DP"
   ]
  },
  {
   "cell_type": "code",
   "execution_count": 2,
   "id": "bdc76fcc-8451-4834-ade4-9b36c5c86bd5",
   "metadata": {},
   "outputs": [],
   "source": [
    "with open(\"Finance_DP_Sample.json\") as f:\n",
    "    fin_doc = json.load(f)"
   ]
  },
  {
   "cell_type": "code",
   "execution_count": 8,
   "id": "9b02061c-5f8b-4d52-a8e0-bfcfdb14b160",
   "metadata": {},
   "outputs": [],
   "source": [
    "fin_doc[\"title_vec\"] = model.encode(fin_doc[\"title\"])\n",
    "fin_doc[\"description_vec\"] = model.encode(fin_doc[\"description\"])"
   ]
  },
  {
   "cell_type": "code",
   "execution_count": 9,
   "id": "5b94d56d-c203-4352-8b1c-a512df42f4f8",
   "metadata": {},
   "outputs": [],
   "source": [
    "fin_out = {}\n",
    "fin_out[\"title\"] = fin_doc[\"title\"]\n",
    "fin_out[\"description\"] = fin_doc[\"description\"]\n",
    "fin_out[\"title_vec\"] = fin_doc[\"title_vec\"]\n",
    "fin_out[\"description_vec\"] = fin_doc[\"description_vec\"]"
   ]
  },
  {
   "cell_type": "code",
   "execution_count": 11,
   "id": "4c71ea1b-0612-4ac2-9a4e-83dd489710b1",
   "metadata": {},
   "outputs": [
    {
     "name": "stderr",
     "output_type": "stream",
     "text": [
      "/Users/astrobalaji/anaconda3/envs/semantic_search/lib/python3.8/site-packages/urllib3/connectionpool.py:1056: InsecureRequestWarning: Unverified HTTPS request is being made to host 'localhost'. Adding certificate verification is strongly advised. See: https://urllib3.readthedocs.io/en/1.26.x/advanced-usage.html#ssl-warnings\n",
      "  warnings.warn(\n"
     ]
    },
    {
     "data": {
      "text/plain": [
       "ObjectApiResponse({'_index': 'dp_test_1', '_id': 'il8GY4sBlKtNqqT2YuKL', '_version': 1, 'result': 'created', '_shards': {'total': 2, 'successful': 1, 'failed': 0}, '_seq_no': 1, '_primary_term': 1})"
      ]
     },
     "execution_count": 11,
     "metadata": {},
     "output_type": "execute_result"
    }
   ],
   "source": [
    "es.index(index = \"dp_test_1\", document=fin_out)"
   ]
  },
  {
   "cell_type": "markdown",
   "id": "b8195f40-8b2a-4f2a-b797-219393297aba",
   "metadata": {},
   "source": [
    "# Healthcare DP"
   ]
  },
  {
   "cell_type": "code",
   "execution_count": 12,
   "id": "89dfa0c7-82ce-4758-a65f-dbdeb230fbcf",
   "metadata": {},
   "outputs": [],
   "source": [
    "with open(\"Health_DP_Sample.json\") as f:\n",
    "    health_doc = json.load(f)"
   ]
  },
  {
   "cell_type": "code",
   "execution_count": 13,
   "id": "8c2412d5-97e9-49cd-b2e5-bc2326ad3daf",
   "metadata": {},
   "outputs": [],
   "source": [
    "health_doc[\"title_vec\"] = model.encode(health_doc[\"title\"])\n",
    "health_doc[\"description_vec\"] = model.encode(health_doc[\"description\"])"
   ]
  },
  {
   "cell_type": "code",
   "execution_count": 14,
   "id": "819c213c-cd81-4bdc-bad0-396370802400",
   "metadata": {},
   "outputs": [],
   "source": [
    "health_out = {}\n",
    "health_out[\"title\"] = health_doc[\"title\"]\n",
    "health_out[\"description\"] = health_doc[\"description\"]\n",
    "health_out[\"title_vec\"] = health_doc[\"title_vec\"]\n",
    "health_out[\"description_vec\"] = health_doc[\"description_vec\"]"
   ]
  },
  {
   "cell_type": "code",
   "execution_count": 15,
   "id": "59ba1f6d-e5ce-4710-839a-0ebf1c4a1eb6",
   "metadata": {},
   "outputs": [
    {
     "name": "stderr",
     "output_type": "stream",
     "text": [
      "/Users/astrobalaji/anaconda3/envs/semantic_search/lib/python3.8/site-packages/urllib3/connectionpool.py:1056: InsecureRequestWarning: Unverified HTTPS request is being made to host 'localhost'. Adding certificate verification is strongly advised. See: https://urllib3.readthedocs.io/en/1.26.x/advanced-usage.html#ssl-warnings\n",
      "  warnings.warn(\n"
     ]
    },
    {
     "data": {
      "text/plain": [
       "ObjectApiResponse({'_index': 'dp_test_1', '_id': 'i18HY4sBlKtNqqT25-Kk', '_version': 1, 'result': 'created', '_shards': {'total': 2, 'successful': 1, 'failed': 0}, '_seq_no': 2, '_primary_term': 1})"
      ]
     },
     "execution_count": 15,
     "metadata": {},
     "output_type": "execute_result"
    }
   ],
   "source": [
    "es.index(index = \"dp_test_1\", document=health_out)"
   ]
  },
  {
   "cell_type": "code",
   "execution_count": null,
   "id": "3b393412-b5d0-4a8b-ad8c-e0441a4a98c7",
   "metadata": {},
   "outputs": [],
   "source": []
  }
 ],
 "metadata": {
  "kernelspec": {
   "display_name": "Python 3 (ipykernel)",
   "language": "python",
   "name": "python3"
  },
  "language_info": {
   "codemirror_mode": {
    "name": "ipython",
    "version": 3
   },
   "file_extension": ".py",
   "mimetype": "text/x-python",
   "name": "python",
   "nbconvert_exporter": "python",
   "pygments_lexer": "ipython3",
   "version": "3.8.18"
  }
 },
 "nbformat": 4,
 "nbformat_minor": 5
}
