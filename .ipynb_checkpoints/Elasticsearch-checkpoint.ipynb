{
 "cells": [
  {
   "cell_type": "code",
   "execution_count": 1,
   "id": "b823a83c",
   "metadata": {},
   "outputs": [],
   "source": [
    "from elasticsearch import Elasticsearch\n",
    "import json\n",
    "from sentence_transformers import SentenceTransformer\n",
    "model = SentenceTransformer('all-MiniLM-L6-v2')\n",
    "import warnings\n",
    "warnings.filterwarnings(\"ignore\")"
   ]
  },
  {
   "cell_type": "code",
   "execution_count": 2,
   "id": "08a2045c",
   "metadata": {},
   "outputs": [],
   "source": [
    "es = Elasticsearch(\"https://localhost:9200\", basic_auth=(\"elastic\", \"Data_is_Lyfe\"), verify_certs=False)"
   ]
  },
  {
   "cell_type": "markdown",
   "id": "7e4d4176",
   "metadata": {},
   "source": [
    "# Indexing in Elasticsearch"
   ]
  },
  {
   "cell_type": "markdown",
   "id": "62c6999e",
   "metadata": {},
   "source": [
    "# Retail DP"
   ]
  },
  {
   "cell_type": "code",
   "execution_count": 3,
   "id": "b8827ecc",
   "metadata": {},
   "outputs": [],
   "source": [
    "with open(\"combined_retail.json\") as f:\n",
    "    doc = json.load(f)"
   ]
  },
  {
   "cell_type": "code",
   "execution_count": 4,
   "id": "0f54d5fc",
   "metadata": {},
   "outputs": [
    {
     "data": {
      "text/plain": [
       "dict_keys(['title', 'owner', 'tier', 'version', 'version_date', 'description', 'tags', 'Health', 'governance', 'stacks', 'document', 'data_sources', 'title_vec', 'description_vec'])"
      ]
     },
     "execution_count": 4,
     "metadata": {},
     "output_type": "execute_result"
    }
   ],
   "source": [
    "doc.keys()"
   ]
  },
  {
   "cell_type": "code",
   "execution_count": 5,
   "id": "72f0764f",
   "metadata": {},
   "outputs": [
    {
     "data": {
      "text/plain": [
       "384"
      ]
     },
     "execution_count": 5,
     "metadata": {},
     "output_type": "execute_result"
    }
   ],
   "source": [
    "len(doc[\"title_vec\"])"
   ]
  },
  {
   "cell_type": "code",
   "execution_count": 6,
   "id": "f2f75589",
   "metadata": {},
   "outputs": [],
   "source": [
    "mapping_out = {'properties': {'description': {'type': 'text',\n",
    "    'fields': {'keyword': {'type': 'keyword', 'ignore_above': 256}}},\n",
    "   'description_vec': {'type': 'dense_vector', 'dims':384, \"index\": True,\"similarity\": \"l2_norm\"},\n",
    "   'title': {'type': 'text',\n",
    "    'fields': {'keyword': {'type': 'keyword', 'ignore_above': 256}}},\n",
    "   'title_vec': {'type': 'dense_vector', 'dims':384, \"index\": True,\"similarity\": \"l2_norm\"}}}"
   ]
  },
  {
   "cell_type": "code",
   "execution_count": 7,
   "id": "e15f6bcf-0b34-4750-8e6b-327e11aa2023",
   "metadata": {},
   "outputs": [
    {
     "ename": "NotFoundError",
     "evalue": "NotFoundError(404, 'index_not_found_exception', 'no such index [dp_test_1]', dp_test_1, index_or_alias)",
     "output_type": "error",
     "traceback": [
      "\u001b[0;31m---------------------------------------------------------------------------\u001b[0m",
      "\u001b[0;31mNotFoundError\u001b[0m                             Traceback (most recent call last)",
      "Cell \u001b[0;32mIn[7], line 1\u001b[0m\n\u001b[0;32m----> 1\u001b[0m \u001b[43mes\u001b[49m\u001b[38;5;241;43m.\u001b[39;49m\u001b[43mindices\u001b[49m\u001b[38;5;241;43m.\u001b[39;49m\u001b[43mdelete\u001b[49m\u001b[43m(\u001b[49m\u001b[43mindex\u001b[49m\u001b[43m \u001b[49m\u001b[38;5;241;43m=\u001b[39;49m\u001b[43m \u001b[49m\u001b[38;5;124;43m\"\u001b[39;49m\u001b[38;5;124;43mdp_test_1\u001b[39;49m\u001b[38;5;124;43m\"\u001b[39;49m\u001b[43m)\u001b[49m\n",
      "File \u001b[0;32m~/anaconda3/envs/elastic/lib/python3.8/site-packages/elasticsearch/_sync/client/utils.py:402\u001b[0m, in \u001b[0;36m_rewrite_parameters.<locals>.wrapper.<locals>.wrapped\u001b[0;34m(*args, **kwargs)\u001b[0m\n\u001b[1;32m    399\u001b[0m         \u001b[38;5;28;01mexcept\u001b[39;00m \u001b[38;5;167;01mKeyError\u001b[39;00m:\n\u001b[1;32m    400\u001b[0m             \u001b[38;5;28;01mpass\u001b[39;00m\n\u001b[0;32m--> 402\u001b[0m \u001b[38;5;28;01mreturn\u001b[39;00m \u001b[43mapi\u001b[49m\u001b[43m(\u001b[49m\u001b[38;5;241;43m*\u001b[39;49m\u001b[43margs\u001b[49m\u001b[43m,\u001b[49m\u001b[43m \u001b[49m\u001b[38;5;241;43m*\u001b[39;49m\u001b[38;5;241;43m*\u001b[39;49m\u001b[43mkwargs\u001b[49m\u001b[43m)\u001b[49m\n",
      "File \u001b[0;32m~/anaconda3/envs/elastic/lib/python3.8/site-packages/elasticsearch/_sync/client/indices.py:655\u001b[0m, in \u001b[0;36mIndicesClient.delete\u001b[0;34m(self, index, allow_no_indices, error_trace, expand_wildcards, filter_path, human, ignore_unavailable, master_timeout, pretty, timeout)\u001b[0m\n\u001b[1;32m    653\u001b[0m     __query[\u001b[38;5;124m\"\u001b[39m\u001b[38;5;124mtimeout\u001b[39m\u001b[38;5;124m\"\u001b[39m] \u001b[38;5;241m=\u001b[39m timeout\n\u001b[1;32m    654\u001b[0m __headers \u001b[38;5;241m=\u001b[39m {\u001b[38;5;124m\"\u001b[39m\u001b[38;5;124maccept\u001b[39m\u001b[38;5;124m\"\u001b[39m: \u001b[38;5;124m\"\u001b[39m\u001b[38;5;124mapplication/json\u001b[39m\u001b[38;5;124m\"\u001b[39m}\n\u001b[0;32m--> 655\u001b[0m \u001b[38;5;28;01mreturn\u001b[39;00m \u001b[38;5;28;43mself\u001b[39;49m\u001b[38;5;241;43m.\u001b[39;49m\u001b[43mperform_request\u001b[49m\u001b[43m(\u001b[49m\u001b[43m  \u001b[49m\u001b[38;5;66;43;03m# type: ignore[return-value]\u001b[39;49;00m\n\u001b[1;32m    656\u001b[0m \u001b[43m    \u001b[49m\u001b[38;5;124;43m\"\u001b[39;49m\u001b[38;5;124;43mDELETE\u001b[39;49m\u001b[38;5;124;43m\"\u001b[39;49m\u001b[43m,\u001b[49m\u001b[43m \u001b[49m\u001b[43m__path\u001b[49m\u001b[43m,\u001b[49m\u001b[43m \u001b[49m\u001b[43mparams\u001b[49m\u001b[38;5;241;43m=\u001b[39;49m\u001b[43m__query\u001b[49m\u001b[43m,\u001b[49m\u001b[43m \u001b[49m\u001b[43mheaders\u001b[49m\u001b[38;5;241;43m=\u001b[39;49m\u001b[43m__headers\u001b[49m\n\u001b[1;32m    657\u001b[0m \u001b[43m\u001b[49m\u001b[43m)\u001b[49m\n",
      "File \u001b[0;32m~/anaconda3/envs/elastic/lib/python3.8/site-packages/elasticsearch/_sync/client/_base.py:389\u001b[0m, in \u001b[0;36mNamespacedClient.perform_request\u001b[0;34m(self, method, path, params, headers, body)\u001b[0m\n\u001b[1;32m    378\u001b[0m \u001b[38;5;28;01mdef\u001b[39;00m \u001b[38;5;21mperform_request\u001b[39m(\n\u001b[1;32m    379\u001b[0m     \u001b[38;5;28mself\u001b[39m,\n\u001b[1;32m    380\u001b[0m     method: \u001b[38;5;28mstr\u001b[39m,\n\u001b[0;32m   (...)\u001b[0m\n\u001b[1;32m    387\u001b[0m     \u001b[38;5;66;03m# Use the internal clients .perform_request() implementation\u001b[39;00m\n\u001b[1;32m    388\u001b[0m     \u001b[38;5;66;03m# so we take advantage of their transport options.\u001b[39;00m\n\u001b[0;32m--> 389\u001b[0m     \u001b[38;5;28;01mreturn\u001b[39;00m \u001b[38;5;28;43mself\u001b[39;49m\u001b[38;5;241;43m.\u001b[39;49m\u001b[43m_client\u001b[49m\u001b[38;5;241;43m.\u001b[39;49m\u001b[43mperform_request\u001b[49m\u001b[43m(\u001b[49m\n\u001b[1;32m    390\u001b[0m \u001b[43m        \u001b[49m\u001b[43mmethod\u001b[49m\u001b[43m,\u001b[49m\u001b[43m \u001b[49m\u001b[43mpath\u001b[49m\u001b[43m,\u001b[49m\u001b[43m \u001b[49m\u001b[43mparams\u001b[49m\u001b[38;5;241;43m=\u001b[39;49m\u001b[43mparams\u001b[49m\u001b[43m,\u001b[49m\u001b[43m \u001b[49m\u001b[43mheaders\u001b[49m\u001b[38;5;241;43m=\u001b[39;49m\u001b[43mheaders\u001b[49m\u001b[43m,\u001b[49m\u001b[43m \u001b[49m\u001b[43mbody\u001b[49m\u001b[38;5;241;43m=\u001b[39;49m\u001b[43mbody\u001b[49m\n\u001b[1;32m    391\u001b[0m \u001b[43m    \u001b[49m\u001b[43m)\u001b[49m\n",
      "File \u001b[0;32m~/anaconda3/envs/elastic/lib/python3.8/site-packages/elasticsearch/_sync/client/_base.py:320\u001b[0m, in \u001b[0;36mBaseClient.perform_request\u001b[0;34m(self, method, path, params, headers, body)\u001b[0m\n\u001b[1;32m    317\u001b[0m         \u001b[38;5;28;01mexcept\u001b[39;00m (\u001b[38;5;167;01mValueError\u001b[39;00m, \u001b[38;5;167;01mKeyError\u001b[39;00m, \u001b[38;5;167;01mTypeError\u001b[39;00m):\n\u001b[1;32m    318\u001b[0m             \u001b[38;5;28;01mpass\u001b[39;00m\n\u001b[0;32m--> 320\u001b[0m     \u001b[38;5;28;01mraise\u001b[39;00m HTTP_EXCEPTIONS\u001b[38;5;241m.\u001b[39mget(meta\u001b[38;5;241m.\u001b[39mstatus, ApiError)(\n\u001b[1;32m    321\u001b[0m         message\u001b[38;5;241m=\u001b[39mmessage, meta\u001b[38;5;241m=\u001b[39mmeta, body\u001b[38;5;241m=\u001b[39mresp_body\n\u001b[1;32m    322\u001b[0m     )\n\u001b[1;32m    324\u001b[0m \u001b[38;5;66;03m# 'X-Elastic-Product: Elasticsearch' should be on every 2XX response.\u001b[39;00m\n\u001b[1;32m    325\u001b[0m \u001b[38;5;28;01mif\u001b[39;00m \u001b[38;5;129;01mnot\u001b[39;00m \u001b[38;5;28mself\u001b[39m\u001b[38;5;241m.\u001b[39m_verified_elasticsearch:\n\u001b[1;32m    326\u001b[0m     \u001b[38;5;66;03m# If the header is set we mark the server as verified.\u001b[39;00m\n",
      "\u001b[0;31mNotFoundError\u001b[0m: NotFoundError(404, 'index_not_found_exception', 'no such index [dp_test_1]', dp_test_1, index_or_alias)"
     ]
    }
   ],
   "source": [
    "# es.indices.delete(index = \"dp_test_1\")"
   ]
  },
  {
   "cell_type": "code",
   "execution_count": 8,
   "id": "4ef9e1bf",
   "metadata": {
    "scrolled": true
   },
   "outputs": [
    {
     "data": {
      "text/plain": [
       "ObjectApiResponse({'acknowledged': True, 'shards_acknowledged': True, 'index': 'dp_test_1'})"
      ]
     },
     "execution_count": 8,
     "metadata": {},
     "output_type": "execute_result"
    }
   ],
   "source": [
    "es.indices.create(index = \"dp_test_1\", mappings=mapping_out)"
   ]
  },
  {
   "cell_type": "code",
   "execution_count": 9,
   "id": "87b3e8ca",
   "metadata": {},
   "outputs": [
    {
     "data": {
      "text/plain": [
       "ObjectApiResponse({'_index': 'dp_test_1', '_id': '8-gDNY0BS2ZlpSQzZqO8', '_version': 1, 'result': 'created', '_shards': {'total': 2, 'successful': 1, 'failed': 0}, '_seq_no': 0, '_primary_term': 1})"
      ]
     },
     "execution_count": 9,
     "metadata": {},
     "output_type": "execute_result"
    }
   ],
   "source": [
    "es.index(index = \"dp_test_1\", document=doc)"
   ]
  },
  {
   "cell_type": "markdown",
   "id": "74e57dc5",
   "metadata": {},
   "source": [
    "# Finance DP"
   ]
  },
  {
   "cell_type": "code",
   "execution_count": 10,
   "id": "f2dbb9e1",
   "metadata": {},
   "outputs": [],
   "source": [
    "with open(\"combined_finance.json\") as f:\n",
    "    fin_doc = json.load(f)"
   ]
  },
  {
   "cell_type": "code",
   "execution_count": 11,
   "id": "d8b0ead5",
   "metadata": {},
   "outputs": [],
   "source": [
    "fin_out = {}\n",
    "fin_out[\"title\"] = fin_doc[\"title\"]\n",
    "fin_out[\"description\"] = fin_doc[\"description\"]\n",
    "fin_out[\"title_vec\"] = fin_doc[\"title_vec\"]\n",
    "fin_out[\"description_vec\"] = fin_doc[\"description_vec\"]"
   ]
  },
  {
   "cell_type": "code",
   "execution_count": 12,
   "id": "306b6713",
   "metadata": {},
   "outputs": [
    {
     "data": {
      "text/plain": [
       "ObjectApiResponse({'_index': 'dp_test_1', '_id': '9OgDNY0BS2ZlpSQzb6O5', '_version': 1, 'result': 'created', '_shards': {'total': 2, 'successful': 1, 'failed': 0}, '_seq_no': 1, '_primary_term': 1})"
      ]
     },
     "execution_count": 12,
     "metadata": {},
     "output_type": "execute_result"
    }
   ],
   "source": [
    "es.index(index = \"dp_test_1\", document=fin_out)"
   ]
  },
  {
   "cell_type": "markdown",
   "id": "34e57f26",
   "metadata": {},
   "source": [
    "# Healthcare DP"
   ]
  },
  {
   "cell_type": "code",
   "execution_count": 13,
   "id": "350c226d",
   "metadata": {},
   "outputs": [],
   "source": [
    "with open(\"combined_health.json\") as f:\n",
    "    health_doc = json.load(f)"
   ]
  },
  {
   "cell_type": "code",
   "execution_count": 14,
   "id": "5bf1bb29",
   "metadata": {},
   "outputs": [],
   "source": [
    "health_out = {}\n",
    "health_out[\"title\"] = health_doc[\"title\"]\n",
    "health_out[\"description\"] = health_doc[\"description\"]\n",
    "health_out[\"title_vec\"] = health_doc[\"title_vec\"]\n",
    "health_out[\"description_vec\"] = health_doc[\"description_vec\"]"
   ]
  },
  {
   "cell_type": "code",
   "execution_count": 15,
   "id": "75ec3fa7",
   "metadata": {},
   "outputs": [
    {
     "data": {
      "text/plain": [
       "ObjectApiResponse({'_index': 'dp_test_1', '_id': '9egDNY0BS2ZlpSQzdKNf', '_version': 1, 'result': 'created', '_shards': {'total': 2, 'successful': 1, 'failed': 0}, '_seq_no': 2, '_primary_term': 1})"
      ]
     },
     "execution_count": 15,
     "metadata": {},
     "output_type": "execute_result"
    }
   ],
   "source": [
    "es.index(index = \"dp_test_1\", document=health_out)"
   ]
  },
  {
   "cell_type": "markdown",
   "id": "438167fb",
   "metadata": {},
   "source": [
    "# Semantic Search"
   ]
  },
  {
   "cell_type": "code",
   "execution_count": 38,
   "id": "c1fe0780",
   "metadata": {},
   "outputs": [],
   "source": [
    "query_phrase = \"medicines\""
   ]
  },
  {
   "cell_type": "code",
   "execution_count": 39,
   "id": "4ad9b841",
   "metadata": {},
   "outputs": [],
   "source": [
    "qr_vec = model.encode(query_phrase)"
   ]
  },
  {
   "cell_type": "markdown",
   "id": "50aa834b-0955-43b0-b444-3fe5f3ab3f9b",
   "metadata": {},
   "source": [
    "2 x Cosine(search_vec, title_vec) + 1 x Cosine(search_vec, desc_vec)"
   ]
  },
  {
   "cell_type": "code",
   "execution_count": 21,
   "id": "426f7310-a44e-49e9-bbb7-5b2da3f281b8",
   "metadata": {},
   "outputs": [
    {
     "ename": "SyntaxError",
     "evalue": "invalid syntax (1449335069.py, line 1)",
     "output_type": "error",
     "traceback": [
      "\u001b[0;36m  Cell \u001b[0;32mIn[21], line 1\u001b[0;36m\u001b[0m\n\u001b[0;31m    SELECT tittle FROM DP_index SORT BY COSINE ()\u001b[0m\n\u001b[0m           ^\u001b[0m\n\u001b[0;31mSyntaxError\u001b[0m\u001b[0;31m:\u001b[0m invalid syntax\n"
     ]
    }
   ],
   "source": [
    "# SELECT tittle FROM DP_index SORT BY COSINE () "
   ]
  },
  {
   "cell_type": "code",
   "execution_count": 40,
   "id": "949331c1",
   "metadata": {},
   "outputs": [],
   "source": [
    "qr = {\n",
    "\"script_score\": {\n",
    "# \"min_score\": 4.0,\n",
    "\"query\": {\"match_all\": {}},\n",
    "\"script\": {\n",
    "\"source\": \"2*(cosineSimilarity(params.query_vector, 'title_vec') + 1.0) + (cosineSimilarity(params.query_vector, 'description_vec') + 1.0)\",\n",
    "\"params\": {\"query_vector\": qr_vec}\n",
    "}\n",
    "}\n",
    "}"
   ]
  },
  {
   "cell_type": "code",
   "execution_count": 41,
   "id": "39e72f5f-eaab-4d82-bce4-b4b7c4f09304",
   "metadata": {},
   "outputs": [],
   "source": [
    "qr_fuzz = {\n",
    "\"script_score\": {\n",
    "\"query\": {\n",
    "    \"fuzzy\": {\n",
    "      \"title.keyword\": {\n",
    "        \"value\": \"custumer\"\n",
    "      }\n",
    "    }\n",
    "},\n",
    "\"script\": {\n",
    "\"source\": \"2*(cosineSimilarity(params.query_vector, 'title_vec') + 1.0) + (cosineSimilarity(params.query_vector, 'description_vec') + 1.0)\",\n",
    "\"params\": {\"query_vector\": qr_vec}\n",
    "}\n",
    "}\n",
    "}"
   ]
  },
  {
   "cell_type": "code",
   "execution_count": 42,
   "id": "354aa2f1",
   "metadata": {},
   "outputs": [],
   "source": [
    "search_res = [{\"title\":t[\"_source\"][\"title\"], \"score\":t[\"_score\"]} for t in es.search(query=qr, index = \"dp_test_1\")[\"hits\"][\"hits\"]]"
   ]
  },
  {
   "cell_type": "code",
   "execution_count": 43,
   "id": "20cb662b",
   "metadata": {},
   "outputs": [
    {
     "data": {
      "text/plain": [
       "[{'title': 'Healthcare_360', 'score': 3.7168052},\n",
       " {'title': 'Customer_360', 'score': 3.2733698},\n",
       " {'title': 'Banking_360', 'score': 3.116454}]"
      ]
     },
     "execution_count": 43,
     "metadata": {},
     "output_type": "execute_result"
    }
   ],
   "source": [
    "search_res"
   ]
  },
  {
   "cell_type": "code",
   "execution_count": 44,
   "id": "37776405",
   "metadata": {},
   "outputs": [],
   "source": [
    "search_1 = es.search(index=\"dp_test_1\", body={\"query\": qr})"
   ]
  },
  {
   "cell_type": "code",
   "execution_count": 45,
   "id": "a1023bfe-4781-4958-97c1-f8f8f675a63a",
   "metadata": {},
   "outputs": [],
   "source": [
    "test_phrase = \"credit card\""
   ]
  },
  {
   "cell_type": "code",
   "execution_count": 46,
   "id": "1ffcc136-4d0d-4615-906a-145d7d0d1ad8",
   "metadata": {},
   "outputs": [],
   "source": [
    "query_vec = model.encode(test_phrase)"
   ]
  },
  {
   "cell_type": "code",
   "execution_count": 47,
   "id": "05783af2-9a33-4b9c-82cd-884eff795a58",
   "metadata": {},
   "outputs": [
    {
     "data": {
      "text/plain": [
       "384"
      ]
     },
     "execution_count": 47,
     "metadata": {},
     "output_type": "execute_result"
    }
   ],
   "source": [
    "len(query_vec)"
   ]
  },
  {
   "cell_type": "code",
   "execution_count": 48,
   "id": "893980d7-5fa4-4b58-81cc-1e4883d0c492",
   "metadata": {},
   "outputs": [],
   "source": [
    "qr = {\n",
    "\"script_score\": {\n",
    "\"query\": {\"match_all\": {}},\n",
    "\"script\": {\n",
    "\"source\": \"2*(cosineSimilarity(params.query_vector, 'title_vec') + 1.0) + (cosineSimilarity(params.query_vector, 'description_vec') + 1.0)\",\n",
    "\"params\": {\"query_vector\": query_vec}\n",
    "}\n",
    "}\n",
    "}"
   ]
  },
  {
   "cell_type": "code",
   "execution_count": 49,
   "id": "ad086fe9",
   "metadata": {},
   "outputs": [],
   "source": [
    "word_res = [{\"title\":t[\"_source\"][\"title\"], \"score\":t[\"_score\"]} for t in es.search(query=qr, index = \"dp_test_1\")[\"hits\"][\"hits\"]]"
   ]
  },
  {
   "cell_type": "code",
   "execution_count": 50,
   "id": "7b67974d",
   "metadata": {},
   "outputs": [
    {
     "data": {
      "text/plain": [
       "[{'title': 'Banking_360', 'score': 4.276055},\n",
       " {'title': 'Customer_360', 'score': 3.884015},\n",
       " {'title': 'Healthcare_360', 'score': 3.734417}]"
      ]
     },
     "execution_count": 50,
     "metadata": {},
     "output_type": "execute_result"
    }
   ],
   "source": [
    "word_res"
   ]
  },
  {
   "cell_type": "markdown",
   "id": "70ecbfaf-e348-4201-abcd-027cac1538c2",
   "metadata": {},
   "source": [
    "# KNN search"
   ]
  },
  {
   "cell_type": "code",
   "execution_count": 51,
   "id": "1d9fbc79-c9bd-4235-b1e7-75dc61aa9efc",
   "metadata": {},
   "outputs": [],
   "source": [
    "test_phrase = \"blood test\""
   ]
  },
  {
   "cell_type": "code",
   "execution_count": 52,
   "id": "94160079-d33d-45f1-b834-e599cf85e60c",
   "metadata": {},
   "outputs": [],
   "source": [
    "query_vec = model.encode(test_phrase)"
   ]
  },
  {
   "cell_type": "code",
   "execution_count": 53,
   "id": "8521a279-96a5-45fb-b4c1-fb0b8a00075d",
   "metadata": {},
   "outputs": [],
   "source": [
    "qr ={\n",
    "    \"field\": \"title_vec\",\n",
    "    \"query_vector\": query_vec,\n",
    "    \"k\": 3,\n",
    "    \"num_candidates\": 10\n",
    "  }"
   ]
  },
  {
   "cell_type": "code",
   "execution_count": 54,
   "id": "4160e391-c1c6-4a66-9260-1efbf68b0658",
   "metadata": {},
   "outputs": [],
   "source": [
    "word_res = [{\"title\":t[\"_source\"][\"title\"], \"score\":t[\"_score\"]} for t in es.knn_search(knn = qr, index = \"dp_test_1\")[\"hits\"][\"hits\"]]"
   ]
  },
  {
   "cell_type": "code",
   "execution_count": 55,
   "id": "689effbf-d222-4ffd-bc60-308ef18fdf37",
   "metadata": {},
   "outputs": [
    {
     "data": {
      "text/plain": [
       "[{'title': 'Healthcare_360', 'score': 0.38176438},\n",
       " {'title': 'Banking_360', 'score': 0.35068583},\n",
       " {'title': 'Customer_360', 'score': 0.3441502}]"
      ]
     },
     "execution_count": 55,
     "metadata": {},
     "output_type": "execute_result"
    }
   ],
   "source": [
    "word_res"
   ]
  },
  {
   "cell_type": "code",
   "execution_count": null,
   "id": "1b56e4f3-90ed-4d83-883f-0a37c307d48e",
   "metadata": {},
   "outputs": [],
   "source": []
  },
  {
   "cell_type": "code",
   "execution_count": null,
   "id": "4f0388e0-a874-435c-b35a-2d2fcce177e4",
   "metadata": {},
   "outputs": [],
   "source": []
  },
  {
   "cell_type": "code",
   "execution_count": null,
   "id": "2897a65d-d2ac-4500-9d06-cef678c97112",
   "metadata": {},
   "outputs": [],
   "source": []
  }
 ],
 "metadata": {
  "kernelspec": {
   "display_name": "Python 3 (ipykernel)",
   "language": "python",
   "name": "python3"
  },
  "language_info": {
   "codemirror_mode": {
    "name": "ipython",
    "version": 3
   },
   "file_extension": ".py",
   "mimetype": "text/x-python",
   "name": "python",
   "nbconvert_exporter": "python",
   "pygments_lexer": "ipython3",
   "version": "3.8.18"
  }
 },
 "nbformat": 4,
 "nbformat_minor": 5
}
