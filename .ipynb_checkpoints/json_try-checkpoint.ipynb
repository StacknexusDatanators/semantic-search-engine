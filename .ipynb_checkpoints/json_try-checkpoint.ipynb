{
 "cells": [
  {
   "cell_type": "code",
   "execution_count": 8,
   "metadata": {},
   "outputs": [],
   "source": [
    "from sentence_transformers import SentenceTransformer\n",
    "import nltk\n",
    "from nltk.corpus import stopwords\n",
    "from nltk.stem import WordNetLemmatizer\n",
    "from sklearn.preprocessing import normalize\n",
    "import numpy as np\n",
    "import json"
   ]
  },
  {
   "cell_type": "code",
   "execution_count": 9,
   "metadata": {},
   "outputs": [],
   "source": [
    "with open(\"C360_updated.json\") as f:\n",
    "    doc = json.load(f)"
   ]
  },
  {
   "cell_type": "code",
   "execution_count": 15,
   "metadata": {},
   "outputs": [
    {
     "data": {
      "text/plain": [
       "{'title': 'Customer_360',\n",
       " 'description': 'Customer data from various sources, enabling a holistic view of customers.',\n",
       " 'owners': 'Ishmin Singh',\n",
       " 'version': 'v1.1',\n",
       " 'version_date': 'July 17, 2023',\n",
       " 'tags': ['marketing', 'customer_360'],\n",
       " 'health': {'quality_score': '70%', 'operational_health': '70%'},\n",
       " 'data_sources': {'table': [{'title': 'customers',\n",
       "    'description': 'Contains customer information, including customer_index, name, contact details, and other relevant attributes.',\n",
       "    'version': 'v2.0',\n",
       "    'version_date': 'july 15, 2023',\n",
       "    'workflow': {'title': 'Customer wrokflow',\n",
       "     'description': 'Automated workflow for processing and analyzing customer data',\n",
       "     'datasets': {'source': '3rdparty', 'source_name': 'customer_data.csv'},\n",
       "     'streaming': False,\n",
       "     'last_run': 'November 18, 2023'},\n",
       "    'quality_score': '78%',\n",
       "    'completeness': '95%',\n",
       "    'recency': 'Daily',\n",
       "    'frequency': 'Real-time',\n",
       "    'schema': [{'title': 'customer_id', 'data_type': 'string'},\n",
       "     {'title': 'customer_name', 'data_type': 'string'}]},\n",
       "   {'title': 'stores',\n",
       "    'description': 'Provides data about various stores, including store_index, location, and store attributes.',\n",
       "    'version': 'v2.0',\n",
       "    'version_date': 'august 20,2023'},\n",
       "   {'title': 'products',\n",
       "    'description': 'Contains details of different products, including product_index, name, description, and product attributes.',\n",
       "    'version': 'v3.0',\n",
       "    'version_date': 'july 18, 2023'},\n",
       "   {'title': 'transactions',\n",
       "    'description': 'Holds transaction data, including transaction_index, transaction_date, transaction_line_item, and transaction details.',\n",
       "    'version': 'v2.0',\n",
       "    'version_date': 'july 30, 2023'}]},\n",
       " 'lens': {'name': 'Customer Insights Lens',\n",
       "  'description': 'Provides insights into customer behavior and preferences.',\n",
       "  'stack': ['spark', 'python', 'SQL'],\n",
       "  'tags': ['insights', 'analytics'],\n",
       "  'published': 'October 1, 2023',\n",
       "  'updated_at': 'November 20, 2023',\n",
       "  'version': 'v1.2',\n",
       "  'entities': {'entity_1': 'Customer Profiles',\n",
       "   'entity_2': 'Purchase History'}}}"
      ]
     },
     "execution_count": 15,
     "metadata": {},
     "output_type": "execute_result"
    }
   ],
   "source": [
    "doc"
   ]
  },
  {
   "cell_type": "code",
   "execution_count": 10,
   "metadata": {},
   "outputs": [
    {
     "name": "stderr",
     "output_type": "stream",
     "text": [
      "[nltk_data] Downloading package stopwords to /home/j/nltk_data...\n",
      "[nltk_data]   Package stopwords is already up-to-date!\n",
      "[nltk_data] Downloading package wordnet to /home/j/nltk_data...\n",
      "[nltk_data]   Package wordnet is already up-to-date!\n"
     ]
    }
   ],
   "source": [
    "nltk.download(\"stopwords\")\n",
    "nltk.download(\"wordnet\")\n",
    "\n",
    "bert_model = SentenceTransformer('all-MiniLM-L6-v2')\n",
    "\n",
    "stop_words = set(stopwords.words(\"english\"))\n",
    "lemmatizer = WordNetLemmatizer()"
   ]
  },
  {
   "cell_type": "code",
   "execution_count": 11,
   "metadata": {},
   "outputs": [],
   "source": [
    "def preprocess_text(text):\n",
    "    tokens = text.split()\n",
    "    tokens = [word for word in tokens if word.lower() not in stop_words]\n",
    "    \n",
    "    tokens = [lemmatizer.lemmatize(word) for word in tokens]\n",
    "    \n",
    "    preprocessed_text = ' '.join(tokens)\n",
    "    \n",
    "    return preprocessed_text"
   ]
  },
  {
   "cell_type": "code",
   "execution_count": 12,
   "metadata": {},
   "outputs": [],
   "source": [
    "def vectorize_text(text):\n",
    "    preprocessed_text = preprocess_text(text)\n",
    "    \n",
    "    vector = bert_model.encode(preprocessed_text, convert_to_tensor=True)\n",
    "    \n",
    "    return vector\n"
   ]
  },
  {
   "cell_type": "code",
   "execution_count": 13,
   "metadata": {},
   "outputs": [],
   "source": [
    "def normalize_vector(vector):\n",
    "    normalized_vector = vector / np.linalg.norm(vector)\n",
    "    \n",
    "    return normalized_vector"
   ]
  },
  {
   "cell_type": "code",
   "execution_count": 18,
   "metadata": {},
   "outputs": [
    {
     "ename": "AttributeError",
     "evalue": "'list' object has no attribute 'split'",
     "output_type": "error",
     "traceback": [
      "\u001b[0;31m---------------------------------------------------------------------------\u001b[0m",
      "\u001b[0;31mAttributeError\u001b[0m                            Traceback (most recent call last)",
      "Cell \u001b[0;32mIn[18], line 2\u001b[0m\n\u001b[1;32m      1\u001b[0m text \u001b[38;5;241m=\u001b[39mdoc[\u001b[38;5;124m'\u001b[39m\u001b[38;5;124mtags\u001b[39m\u001b[38;5;124m'\u001b[39m] \n\u001b[0;32m----> 2\u001b[0m title_vec \u001b[38;5;241m=\u001b[39m \u001b[43mvectorize_text\u001b[49m\u001b[43m(\u001b[49m\u001b[43mtext\u001b[49m\u001b[43m)\u001b[49m\n\u001b[1;32m      3\u001b[0m normalized_vector_title \u001b[38;5;241m=\u001b[39m normalize_vector(title_vec)\n\u001b[1;32m      4\u001b[0m \u001b[38;5;28mprint\u001b[39m(normalized_vector_title)\n",
      "Cell \u001b[0;32mIn[12], line 2\u001b[0m, in \u001b[0;36mvectorize_text\u001b[0;34m(text)\u001b[0m\n\u001b[1;32m      1\u001b[0m \u001b[38;5;28;01mdef\u001b[39;00m \u001b[38;5;21mvectorize_text\u001b[39m(text):\n\u001b[0;32m----> 2\u001b[0m     preprocessed_text \u001b[38;5;241m=\u001b[39m \u001b[43mpreprocess_text\u001b[49m\u001b[43m(\u001b[49m\u001b[43mtext\u001b[49m\u001b[43m)\u001b[49m\n\u001b[1;32m      4\u001b[0m     vector \u001b[38;5;241m=\u001b[39m bert_model\u001b[38;5;241m.\u001b[39mencode(preprocessed_text, convert_to_tensor\u001b[38;5;241m=\u001b[39m\u001b[38;5;28;01mTrue\u001b[39;00m)\n\u001b[1;32m      6\u001b[0m     \u001b[38;5;28;01mreturn\u001b[39;00m vector\n",
      "Cell \u001b[0;32mIn[11], line 2\u001b[0m, in \u001b[0;36mpreprocess_text\u001b[0;34m(text)\u001b[0m\n\u001b[1;32m      1\u001b[0m \u001b[38;5;28;01mdef\u001b[39;00m \u001b[38;5;21mpreprocess_text\u001b[39m(text):\n\u001b[0;32m----> 2\u001b[0m     tokens \u001b[38;5;241m=\u001b[39m \u001b[43mtext\u001b[49m\u001b[38;5;241;43m.\u001b[39;49m\u001b[43msplit\u001b[49m()\n\u001b[1;32m      3\u001b[0m     tokens \u001b[38;5;241m=\u001b[39m [word \u001b[38;5;28;01mfor\u001b[39;00m word \u001b[38;5;129;01min\u001b[39;00m tokens \u001b[38;5;28;01mif\u001b[39;00m word\u001b[38;5;241m.\u001b[39mlower() \u001b[38;5;129;01mnot\u001b[39;00m \u001b[38;5;129;01min\u001b[39;00m stop_words]\n\u001b[1;32m      5\u001b[0m     tokens \u001b[38;5;241m=\u001b[39m [lemmatizer\u001b[38;5;241m.\u001b[39mlemmatize(word) \u001b[38;5;28;01mfor\u001b[39;00m word \u001b[38;5;129;01min\u001b[39;00m tokens]\n",
      "\u001b[0;31mAttributeError\u001b[0m: 'list' object has no attribute 'split'"
     ]
    }
   ],
   "source": [
    "text =doc['tags'] \n",
    "title_vec = vectorize_text(text)\n",
    "normalized_vector_title = normalize_vector(title_vec)\n",
    "print(normalized_vector_title)"
   ]
  },
  {
   "cell_type": "code",
   "execution_count": null,
   "metadata": {},
   "outputs": [],
   "source": []
  },
  {
   "cell_type": "code",
   "execution_count": null,
   "metadata": {},
   "outputs": [],
   "source": []
  },
  {
   "cell_type": "code",
   "execution_count": 16,
   "metadata": {},
   "outputs": [
    {
     "name": "stdout",
     "output_type": "stream",
     "text": [
      "tensor([-7.5098e-02, -3.2001e-02, -3.4372e-02, -5.4321e-02,  9.1698e-03,\n",
      "        -4.1828e-02,  1.0451e-01,  9.1807e-03,  1.7489e-02, -6.0192e-02,\n",
      "         7.1247e-02, -2.0161e-02,  3.4009e-02, -2.0237e-02,  3.4822e-02,\n",
      "        -2.5172e-02, -5.6595e-03,  2.7537e-02, -1.0023e-01,  6.7300e-03,\n",
      "        -1.4080e-01,  2.0834e-03, -6.5475e-02,  5.3364e-02, -5.4745e-02,\n",
      "         4.1959e-02,  7.7322e-03,  5.5533e-02, -5.2701e-02, -4.4167e-02,\n",
      "         5.1935e-03,  3.2325e-02,  1.1942e-01,  6.2033e-03,  4.2735e-02,\n",
      "        -2.7671e-02, -6.3851e-02, -2.6104e-02, -8.2532e-02, -1.0414e-02,\n",
      "        -5.9735e-02, -7.5617e-02, -2.5325e-02,  2.3954e-02,  4.5534e-02,\n",
      "         2.6585e-02, -6.1936e-03,  3.4197e-02,  8.6103e-02,  5.2832e-02,\n",
      "        -6.5413e-02, -8.9018e-03, -4.5874e-02,  3.3694e-02, -4.0460e-02,\n",
      "         3.3844e-03, -2.2014e-02, -3.4824e-03,  2.9436e-02,  2.8088e-02,\n",
      "        -9.4455e-03, -4.2134e-02,  6.6283e-03,  6.0601e-02, -3.4527e-02,\n",
      "        -4.5290e-02, -1.2326e-01, -4.6454e-02, -3.2213e-02, -1.9455e-02,\n",
      "        -6.5839e-02,  3.5368e-02, -3.6554e-02,  4.0502e-02,  3.0122e-02,\n",
      "        -3.0200e-03,  1.1165e-02, -3.4066e-03,  5.4678e-02,  1.2759e-02,\n",
      "         1.6904e-02, -2.4471e-02,  1.4980e-02, -1.5937e-02, -1.1817e-02,\n",
      "         4.5191e-02,  6.6133e-02, -1.4180e-02, -9.2395e-02, -3.6969e-02,\n",
      "         2.3297e-02,  8.5967e-02,  6.8358e-02, -3.3759e-02, -1.7808e-01,\n",
      "         1.4835e-02,  5.5597e-02, -9.3550e-02, -6.1586e-02,  1.4399e-01,\n",
      "        -9.3170e-03,  5.1320e-02,  2.2070e-02,  4.0447e-02, -2.8503e-02,\n",
      "         1.5628e-02, -2.4503e-02,  1.3905e-01,  8.3100e-03, -4.6522e-02,\n",
      "        -5.2763e-02, -2.2451e-02, -6.9760e-02, -3.2113e-02,  1.1000e-01,\n",
      "        -6.2531e-03, -3.0975e-02,  7.2741e-02,  1.0528e-01, -3.6981e-02,\n",
      "         5.9568e-02, -5.1343e-03, -4.2615e-02, -6.0364e-02, -7.2954e-02,\n",
      "        -8.4058e-02,  3.1249e-02, -3.7881e-33,  1.2283e-02,  1.0519e-01,\n",
      "         8.5078e-03,  4.0951e-02,  1.2082e-02,  4.2030e-02, -2.9889e-03,\n",
      "         9.5293e-02, -1.3482e-02,  7.5739e-03,  5.8574e-03,  3.7145e-02,\n",
      "         9.1221e-03,  3.6492e-02,  1.6198e-03,  7.5055e-02, -9.0499e-03,\n",
      "        -1.7808e-03, -3.8304e-02,  7.7309e-03,  4.8138e-03,  1.5389e-02,\n",
      "         1.8847e-02,  1.5125e-01, -7.2837e-03,  2.9245e-02,  8.5171e-02,\n",
      "        -1.1927e-02,  1.1811e-01,  4.1076e-02,  3.5565e-02, -7.4036e-03,\n",
      "        -3.1969e-02,  1.9404e-02,  3.9314e-02,  1.3415e-02,  1.9967e-03,\n",
      "        -1.0280e-01, -8.8029e-02,  2.5951e-02, -6.9711e-02,  1.5335e-02,\n",
      "        -4.0984e-02, -2.8391e-02, -2.4647e-02,  2.5314e-03,  1.1579e-01,\n",
      "         3.7582e-02, -3.8336e-02,  2.6391e-02,  8.2191e-03,  2.3808e-02,\n",
      "        -7.9863e-02,  6.1583e-02, -6.9260e-02, -4.2058e-02,  3.0103e-02,\n",
      "        -1.6868e-02, -2.6514e-02, -9.8295e-02,  5.5011e-02, -2.6977e-02,\n",
      "        -1.8009e-02, -8.7946e-02, -5.2824e-02, -8.9697e-02,  2.5725e-02,\n",
      "        -8.2784e-02,  8.9117e-02, -7.6435e-03,  1.9327e-02,  5.8851e-02,\n",
      "         1.1157e-02,  3.9041e-02, -5.0913e-02, -1.6128e-02, -1.0800e-01,\n",
      "         4.9903e-02,  4.6943e-02,  3.3075e-02, -4.1351e-02,  6.9130e-03,\n",
      "        -2.5750e-02, -3.2560e-02,  1.0503e-02,  4.7167e-02, -2.3781e-03,\n",
      "        -4.3879e-02, -4.5083e-02, -1.1441e-02, -9.1627e-02,  6.6922e-02,\n",
      "         9.0580e-02,  9.6902e-02, -6.1332e-03,  1.7337e-33, -7.1176e-02,\n",
      "        -2.8586e-02, -9.4438e-02,  1.8914e-02,  2.0933e-02, -3.6726e-02,\n",
      "         4.5362e-02,  5.6842e-02, -4.0290e-02,  2.0226e-02,  1.4230e-03,\n",
      "        -2.4507e-02,  2.0504e-02,  4.2818e-03,  1.0052e-01,  6.3150e-02,\n",
      "         4.1816e-03, -6.0694e-02, -2.0287e-02,  1.3372e-02, -6.8540e-02,\n",
      "         6.4956e-03, -6.4163e-02,  2.1898e-02, -3.6792e-03,  1.2453e-02,\n",
      "         1.1264e-01, -3.5217e-03,  3.1649e-02, -6.0746e-02, -1.3971e-02,\n",
      "         2.9678e-02, -4.1963e-02, -4.0730e-03, -2.3194e-02,  1.4405e-03,\n",
      "        -5.0735e-02,  7.0488e-02, -2.2156e-02,  4.7999e-02,  9.0285e-02,\n",
      "         2.7283e-03, -2.7385e-02,  5.4216e-02, -3.7085e-02, -4.7573e-02,\n",
      "         1.1170e-01, -3.7185e-02,  9.1666e-02,  9.4401e-02, -4.3748e-02,\n",
      "        -6.1202e-02,  2.8055e-02,  4.5163e-02, -4.5629e-02,  1.6604e-02,\n",
      "         2.8928e-02,  1.0422e-02,  8.5470e-02, -2.7129e-02,  9.6455e-03,\n",
      "         9.2115e-03,  6.8825e-03,  7.1975e-02,  2.9489e-02, -2.8514e-02,\n",
      "         3.7852e-02, -2.0305e-02, -3.6557e-02, -7.8833e-02,  2.1951e-02,\n",
      "        -2.1195e-02,  4.5135e-04,  5.6749e-03,  1.0404e-02, -7.2562e-02,\n",
      "        -4.4237e-02, -6.5657e-02, -3.2337e-02, -2.1475e-03, -4.1864e-02,\n",
      "        -6.9315e-03,  2.0513e-02, -1.9311e-03, -1.6071e-02, -1.0274e-01,\n",
      "         1.3779e-01,  2.4072e-02, -6.4452e-02, -2.5601e-02,  7.0910e-03,\n",
      "         5.8706e-02, -3.1911e-02,  1.8006e-02, -2.5385e-02, -1.4836e-08,\n",
      "         5.4794e-02,  6.5067e-02,  2.9088e-02,  4.0236e-02,  6.2449e-02,\n",
      "        -2.4428e-02,  4.6910e-03,  3.9462e-02, -2.1404e-02,  3.2368e-02,\n",
      "        -7.1055e-03,  4.1592e-02, -6.9231e-03,  7.5480e-02,  3.9958e-02,\n",
      "        -3.1919e-03, -3.2195e-02,  7.6712e-03, -3.4242e-03, -2.4747e-02,\n",
      "         2.3071e-02,  2.5065e-02,  5.4667e-02, -6.2051e-02,  4.2793e-03,\n",
      "         6.6071e-02, -1.4554e-02,  5.2985e-02,  9.5509e-03, -1.1699e-01,\n",
      "        -2.8268e-02,  2.7346e-02,  1.7728e-02, -7.6117e-02, -2.1068e-02,\n",
      "        -2.3060e-02, -6.4773e-02, -2.6679e-02, -9.3919e-03, -4.5566e-02,\n",
      "         2.0174e-02, -1.8888e-03,  1.2485e-02, -9.7938e-03,  2.8838e-02,\n",
      "         2.2165e-03,  5.5540e-02, -7.0522e-02, -3.4391e-02,  1.6043e-02,\n",
      "        -1.1820e-01, -2.3295e-02,  7.3330e-02,  1.1711e-02, -1.7915e-03,\n",
      "        -8.2430e-02,  1.0990e-01, -1.8609e-03, -3.6597e-02,  3.6193e-02,\n",
      "        -4.1561e-03,  2.7259e-02, -3.3759e-02, -3.8071e-02])\n"
     ]
    }
   ],
   "source": [
    "text =doc['title'] \n",
    "title_vec = vectorize_text(text)\n",
    "normalized_vector_title = normalize_vector(title_vec)\n",
    "print(normalized_vector_title)"
   ]
  },
  {
   "cell_type": "code",
   "execution_count": 17,
   "metadata": {},
   "outputs": [
    {
     "name": "stdout",
     "output_type": "stream",
     "text": [
      "tensor([-2.6456e-02, -3.0525e-03, -4.9228e-03, -3.9669e-02, -1.7772e-02,\n",
      "        -5.4842e-03,  2.6563e-02, -4.5115e-02, -6.9871e-02, -2.5495e-02,\n",
      "         7.1775e-02,  6.1221e-02,  1.4985e-02, -6.0846e-02,  6.2930e-02,\n",
      "         8.1881e-03,  8.8664e-02,  3.0924e-03, -2.5710e-02, -2.3845e-02,\n",
      "        -1.1893e-01, -2.1062e-02, -1.2346e-01,  3.8047e-02,  2.7591e-03,\n",
      "         4.7724e-02,  5.5189e-02,  3.8505e-04,  1.4941e-02, -3.5568e-02,\n",
      "         3.1782e-02,  8.8407e-02,  7.4283e-02,  4.9695e-02, -6.9738e-02,\n",
      "        -7.4827e-03, -3.1138e-02,  6.2846e-02, -1.1515e-02, -8.5587e-04,\n",
      "        -2.6534e-02,  1.7358e-02, -9.8629e-02,  3.4224e-02,  2.7103e-02,\n",
      "        -3.6325e-02,  7.7362e-03, -9.8653e-03,  7.5621e-03,  8.8073e-02,\n",
      "        -1.9161e-01, -8.0606e-05,  3.5080e-03,  2.6441e-02,  8.1978e-04,\n",
      "         1.2277e-02, -3.6256e-02, -2.7674e-02,  8.1362e-03,  5.9868e-02,\n",
      "        -2.2137e-02, -6.2050e-02, -5.7038e-02,  8.3038e-02,  5.3858e-03,\n",
      "         2.3126e-02, -3.3060e-02,  1.8831e-02, -2.1577e-02, -4.7783e-02,\n",
      "         6.9825e-03,  3.0684e-02, -2.0019e-02, -3.6560e-03, -3.4003e-02,\n",
      "        -1.2132e-03, -4.0509e-03, -3.0931e-02,  7.4042e-02, -6.0484e-02,\n",
      "         3.7652e-02,  6.5926e-02,  1.2256e-02,  2.6699e-02, -1.9261e-02,\n",
      "        -5.4165e-02,  3.0626e-02, -5.5359e-02, -1.1363e-01, -6.1165e-02,\n",
      "        -3.9523e-03,  4.9521e-02,  3.2821e-02, -1.9014e-02,  5.0555e-03,\n",
      "        -3.2499e-02, -4.9532e-04, -8.1949e-02,  3.5164e-02,  3.2409e-02,\n",
      "        -3.2940e-02,  5.4198e-02,  2.1874e-02,  6.4858e-02, -7.4939e-02,\n",
      "        -1.1360e-01,  6.4132e-02,  1.0464e-01, -3.5217e-02,  5.0145e-02,\n",
      "        -7.9280e-02,  8.2311e-03, -8.4310e-02, -1.3049e-01,  3.8422e-02,\n",
      "        -9.8239e-02, -2.3193e-02,  2.7219e-02, -1.1695e-02,  3.1412e-04,\n",
      "        -1.8299e-02,  4.3661e-02,  2.6225e-02, -2.5659e-02, -1.1293e-02,\n",
      "        -4.2200e-02, -1.2476e-02, -1.0614e-33, -3.5989e-03,  7.2696e-02,\n",
      "         4.1910e-02, -2.8370e-02,  1.3738e-04,  1.6863e-03, -2.8146e-02,\n",
      "        -1.6643e-02, -1.7362e-02,  4.0572e-02,  2.3851e-02,  1.3271e-01,\n",
      "         1.9304e-03,  4.0975e-02,  3.5091e-03,  2.2369e-02, -6.1636e-02,\n",
      "         1.0576e-01,  3.2426e-03, -1.6712e-02,  3.2299e-02, -2.7323e-02,\n",
      "         5.3980e-03,  6.4488e-02, -2.3109e-02, -6.2758e-02,  7.5116e-02,\n",
      "         9.2971e-02,  2.1979e-02,  6.5736e-03,  9.5589e-02, -4.4571e-02,\n",
      "         2.4888e-02, -2.9161e-02, -3.6410e-02,  2.3437e-02, -6.1554e-02,\n",
      "        -7.9693e-02,  2.6136e-02,  1.2239e-02, -2.8387e-02,  8.3044e-02,\n",
      "         7.0229e-02, -5.4832e-02, -9.0523e-02,  1.4660e-01, -1.5241e-02,\n",
      "         3.5312e-02, -7.7266e-02,  1.4371e-02,  9.0044e-03,  6.1655e-03,\n",
      "        -1.2421e-02,  9.7299e-02, -7.5722e-02,  6.5889e-02,  4.5242e-02,\n",
      "        -6.7840e-02,  2.8424e-02, -3.4770e-03, -4.2256e-02, -6.6316e-02,\n",
      "         2.2493e-03, -6.6640e-02, -3.7550e-02, -1.1495e-02,  3.1328e-02,\n",
      "        -7.7341e-02,  2.9922e-02,  7.9573e-02, -3.3609e-02,  5.5311e-03,\n",
      "         1.1550e-02,  1.7852e-02, -7.4102e-02, -1.1382e-02, -8.3427e-02,\n",
      "        -5.1511e-03,  2.7732e-02,  1.0373e-01, -3.2774e-02, -4.4376e-02,\n",
      "         6.3722e-02,  5.1509e-02,  6.1078e-02,  5.9194e-02,  3.1770e-02,\n",
      "        -7.9188e-02, -6.7997e-02,  2.7200e-02, -5.1876e-02,  8.4845e-02,\n",
      "        -2.7896e-03,  1.0068e-03,  1.4240e-02,  8.4855e-34, -1.4460e-02,\n",
      "         8.6562e-03, -4.9062e-02,  7.9168e-02,  2.7658e-02,  4.6157e-02,\n",
      "        -4.1475e-02,  3.4205e-02, -6.9870e-03,  2.0397e-02, -8.8513e-03,\n",
      "        -9.6226e-02,  4.4087e-03, -4.7541e-02, -4.3362e-02,  3.6570e-02,\n",
      "         6.0268e-02, -4.2759e-02, -3.0330e-02, -1.5289e-02, -9.2252e-03,\n",
      "         2.9723e-02, -9.6280e-02, -1.0742e-02,  7.0943e-02,  5.2645e-02,\n",
      "         1.4328e-02,  4.8277e-03, -3.6979e-03, -4.3889e-02, -6.4214e-02,\n",
      "        -5.7325e-02, -2.8472e-02, -3.4456e-02, -9.3357e-02,  3.5315e-02,\n",
      "        -3.7634e-02,  7.1420e-02, -2.2851e-02,  8.4153e-02, -2.5808e-03,\n",
      "        -1.7942e-02,  2.0067e-02,  1.1613e-02, -1.8282e-02, -2.4221e-02,\n",
      "         2.7762e-02,  4.7120e-03, -4.0890e-02,  2.0616e-02,  1.4053e-02,\n",
      "         1.5209e-02,  2.2917e-02,  1.4063e-02, -1.9533e-02, -1.9266e-02,\n",
      "         9.4105e-02,  1.7875e-02,  9.7185e-02,  2.7489e-02,  6.9254e-02,\n",
      "        -1.7414e-02, -2.8241e-03,  1.1565e-01, -2.1428e-04, -6.0439e-02,\n",
      "         3.1273e-02, -2.1186e-02, -4.7919e-02, -6.2569e-02, -4.2718e-02,\n",
      "        -6.0580e-02, -3.1203e-02, -2.6619e-02,  1.3285e-02,  8.9687e-03,\n",
      "        -6.2600e-02,  4.2226e-03,  1.1099e-02,  2.4071e-02,  3.5485e-02,\n",
      "        -5.3394e-02,  8.0693e-02,  1.1154e-01,  4.8370e-02, -3.6401e-02,\n",
      "         6.1262e-02, -7.0131e-02,  2.2939e-02, -4.0409e-02, -1.1153e-01,\n",
      "         2.6804e-03, -1.2928e-01,  5.8006e-02,  1.3284e-02, -1.9306e-08,\n",
      "        -7.1902e-02, -6.3625e-02,  1.0324e-02,  4.9221e-02,  8.5380e-03,\n",
      "        -4.3301e-02,  8.1595e-03,  1.5229e-01, -4.0151e-02,  5.2313e-02,\n",
      "         2.7187e-04,  3.3313e-02, -9.4986e-02,  4.4403e-02,  9.0217e-02,\n",
      "         2.4303e-02,  1.1246e-02, -1.5438e-02, -4.1102e-02,  3.1665e-02,\n",
      "        -3.5839e-03,  7.0180e-02,  4.6823e-03, -5.4001e-03,  1.3662e-01,\n",
      "         3.1425e-02, -5.4141e-03,  4.8487e-02,  7.8397e-02, -1.0247e-01,\n",
      "         1.0813e-03, -1.0677e-02,  4.7360e-02, -6.6811e-02,  2.8165e-02,\n",
      "         2.0119e-03, -2.6376e-02, -8.4674e-03, -7.2344e-02, -2.7645e-02,\n",
      "        -5.7057e-03,  5.1100e-02,  2.1401e-03,  5.7056e-02,  3.8924e-02,\n",
      "         5.3686e-02,  3.3207e-02,  2.8061e-02, -2.0477e-02,  4.6934e-02,\n",
      "        -3.9548e-02, -3.1987e-02,  1.0531e-01,  1.8646e-02, -4.8273e-02,\n",
      "        -3.1267e-02,  2.3672e-02,  5.9611e-03,  3.2545e-02,  3.6061e-02,\n",
      "         5.1763e-02,  2.9919e-02, -4.4306e-02,  2.4026e-04])\n"
     ]
    }
   ],
   "source": [
    "text =doc['description']\n",
    "des_vec = vectorize_text(text)\n",
    "normalized_vector_des = normalize_vector(des_vec)\n",
    "print(normalized_vector_des)"
   ]
  },
  {
   "cell_type": "code",
   "execution_count": 9,
   "metadata": {},
   "outputs": [],
   "source": [
    "health_vec = {\n",
    "    \"title_vec\": normalized_vector_title.tolist(),\n",
    "    \"description_vec\": normalized_vector_des.tolist()\n",
    "}"
   ]
  },
  {
   "cell_type": "code",
   "execution_count": 10,
   "metadata": {},
   "outputs": [],
   "source": [
    "combined_heatlth = doc"
   ]
  },
  {
   "cell_type": "code",
   "execution_count": 12,
   "metadata": {},
   "outputs": [],
   "source": [
    "combined_heatlth.update(health_vec)"
   ]
  },
  {
   "cell_type": "code",
   "execution_count": 13,
   "metadata": {},
   "outputs": [],
   "source": [
    "with open('combined_health.json', 'w') as output_file:\n",
    "    json.dump(combined_heatlth, output_file, indent=4)"
   ]
  },
  {
   "cell_type": "code",
   "execution_count": null,
   "metadata": {},
   "outputs": [],
   "source": []
  },
  {
   "cell_type": "code",
   "execution_count": null,
   "metadata": {},
   "outputs": [],
   "source": []
  },
  {
   "cell_type": "code",
   "execution_count": null,
   "metadata": {},
   "outputs": [],
   "source": []
  },
  {
   "cell_type": "code",
   "execution_count": null,
   "metadata": {},
   "outputs": [],
   "source": []
  }
 ],
 "metadata": {
  "kernelspec": {
   "display_name": "Python 3 (ipykernel)",
   "language": "python",
   "name": "python3"
  },
  "language_info": {
   "codemirror_mode": {
    "name": "ipython",
    "version": 3
   },
   "file_extension": ".py",
   "mimetype": "text/x-python",
   "name": "python",
   "nbconvert_exporter": "python",
   "pygments_lexer": "ipython3",
   "version": "3.8.18"
  }
 },
 "nbformat": 4,
 "nbformat_minor": 4
}
