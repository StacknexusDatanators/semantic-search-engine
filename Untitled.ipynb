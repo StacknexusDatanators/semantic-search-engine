{
 "cells": [
  {
   "cell_type": "code",
   "execution_count": 14,
   "metadata": {},
   "outputs": [],
   "source": [
    "import torch"
   ]
  },
  {
   "cell_type": "code",
   "execution_count": 11,
   "metadata": {},
   "outputs": [],
   "source": [
    "from transformers import AutoModel, AutoTokenizer\n",
    "\n",
    "model_name = \"bert-base-uncased\"\n",
    "model = AutoModel.from_pretrained(model_name)\n",
    "tokenizer = AutoTokenizer.from_pretrained(model_name)"
   ]
  },
  {
   "cell_type": "code",
   "execution_count": 12,
   "metadata": {},
   "outputs": [],
   "source": [
    "with open('DP_Sample.json', 'r') as file:\n",
    "    data = json.load(file)\n",
    "\n",
    "tokenized_data = [tokenizer(item, truncation=True, padding=True, return_tensors=\"pt\") for item in data]\n"
   ]
  },
  {
   "cell_type": "code",
   "execution_count": 15,
   "metadata": {},
   "outputs": [],
   "source": [
    "embeddings = []\n",
    "\n",
    "for item in tokenized_data:\n",
    "    with torch.no_grad():\n",
    "        outputs = model(**item)\n",
    "        embeddings.append(outputs.last_hidden_state)\n"
   ]
  },
  {
   "cell_type": "code",
   "execution_count": 16,
   "metadata": {},
   "outputs": [
    {
     "data": {
      "text/plain": [
       "[tensor([[[-0.4156,  0.1556,  0.0974,  ..., -0.3049, -0.0580,  0.2635],\n",
       "          [ 0.0055,  0.4952,  0.5756,  ..., -0.8292, -0.4116, -0.4782],\n",
       "          [ 0.8726,  0.0712, -0.2783,  ..., -0.1688, -0.8929, -0.3399]]]),\n",
       " tensor([[[-0.5760,  0.0350, -0.2270,  ..., -0.1851,  0.0940,  0.3281],\n",
       "          [-0.4651, -0.4263, -0.2407,  ...,  0.1948,  0.1887,  0.1204],\n",
       "          [ 0.8748,  0.1016, -0.4328,  ...,  0.1037, -0.5909, -0.2674]]]),\n",
       " tensor([[[-0.5507,  0.0664,  0.2064,  ...,  0.0382,  0.1508,  0.3129],\n",
       "          [-0.5916, -0.6735,  0.1297,  ...,  0.2691,  0.5061,  0.3456],\n",
       "          [ 0.9693,  0.0079, -0.2108,  ...,  0.1358, -1.0094, -0.1803]]]),\n",
       " tensor([[[-0.3529, -0.2390,  0.1322,  ...,  0.0110,  0.1277,  0.2494],\n",
       "          [-0.3776, -1.1474, -0.0256,  ..., -0.0542, -0.0551,  0.3992],\n",
       "          [ 0.7580,  0.0903, -0.2518,  ..., -0.0291, -0.9104, -0.3047]]]),\n",
       " tensor([[[-0.3530, -0.1299,  0.1074,  ..., -0.3348,  0.1649,  0.5878],\n",
       "          [-0.0378, -0.6815, -0.1101,  ..., -0.4189,  0.1775, -0.0027],\n",
       "          [ 0.4110, -0.2883,  0.8858,  ...,  0.3315, -0.0796, -0.9614],\n",
       "          [-0.2194, -0.1883,  0.4731,  ..., -0.3731,  0.0055, -0.2327],\n",
       "          [ 0.8526,  0.2780, -0.1745,  ...,  0.4226, -0.6028, -0.5094]]]),\n",
       " tensor([[[-0.4204,  0.0592, -0.2207,  ..., -0.1454,  0.0290,  0.4113],\n",
       "          [-0.0536, -0.0706, -0.4566,  ..., -0.4933, -0.5384, -0.6025],\n",
       "          [ 1.1028, -0.0022, -0.3987,  ..., -0.0502, -0.5886, -0.4231]]]),\n",
       " tensor([[[-0.1283,  0.3268,  0.1393,  ..., -0.1029,  0.1264,  0.1754],\n",
       "          [ 0.0919, -0.2608,  0.3135,  ...,  0.3764,  0.5305,  0.1523],\n",
       "          [ 0.9874,  0.1336, -0.2423,  ...,  0.1741, -0.8704, -0.2098]]]),\n",
       " tensor([[[ 0.0065,  0.2518, -0.0105,  ..., -0.2463, -0.0127,  0.6573],\n",
       "          [ 0.4103,  0.1112, -0.3089,  ..., -0.5906, -0.0482, -0.4549],\n",
       "          [ 0.8508,  0.0812, -0.3242,  ...,  0.1413, -0.8569, -0.1397]]]),\n",
       " tensor([[[-0.1906,  0.1743, -0.2873,  ..., -0.4082,  0.1225,  0.7323],\n",
       "          [ 0.0749, -0.5042, -0.8410,  ..., -0.4938,  0.2946,  0.1981],\n",
       "          [ 0.7780, -0.0524, -0.3383,  ...,  0.1067, -0.8812, -0.0953]]]),\n",
       " tensor([[[-0.1639,  0.4621,  0.0366,  ..., -0.0803,  0.0592, -0.0302],\n",
       "          [ 0.1062, -0.0527,  0.4123,  ...,  0.1367,  0.1792,  0.0745],\n",
       "          [ 0.9705,  0.1634, -0.3141,  ..., -0.0121, -0.7245, -0.2601]]]),\n",
       " tensor([[[-0.3075,  0.1782, -0.0106,  ..., -0.0956,  0.1241,  0.4090],\n",
       "          [-0.1452, -0.7286,  0.2898,  ...,  0.0324,  0.3336, -0.1425],\n",
       "          [ 0.9544,  0.0409, -0.2990,  ...,  0.1245, -0.9812, -0.2574]]]),\n",
       " tensor([[[-0.1110,  0.3416, -0.0678,  ..., -0.5705,  0.0423,  0.6615],\n",
       "          [-0.0646,  0.2647, -0.1610,  ..., -0.0182,  0.3337,  0.2205],\n",
       "          [ 0.5605,  0.1059,  0.7600,  ...,  0.2400, -0.2290, -0.9586],\n",
       "          [-0.2049,  0.9463,  0.6390,  ..., -0.4692, -0.4279,  0.3102],\n",
       "          [ 0.8406,  0.1455, -0.2109,  ...,  0.3022, -0.7367, -0.2554]]])]"
      ]
     },
     "execution_count": 16,
     "metadata": {},
     "output_type": "execute_result"
    }
   ],
   "source": [
    "embeddings"
   ]
  },
  {
   "cell_type": "code",
   "execution_count": 17,
   "metadata": {},
   "outputs": [
    {
     "name": "stdout",
     "output_type": "stream",
     "text": [
      "Shape of embeddings: torch.Size([1, 3, 768])\n",
      "Embeddings: tensor([[[-0.4156,  0.1556,  0.0974,  ..., -0.3049, -0.0580,  0.2635],\n",
      "         [ 0.0055,  0.4952,  0.5756,  ..., -0.8292, -0.4116, -0.4782],\n",
      "         [ 0.8726,  0.0712, -0.2783,  ..., -0.1688, -0.8929, -0.3399]]])\n"
     ]
    }
   ],
   "source": [
    "item_index = 0  \n",
    "embeddings_for_item = embeddings[item_index]\n",
    "\n",
    "print(\"Shape of embeddings:\", embeddings_for_item.shape)\n",
    "\n",
    "print(\"Embeddings:\", embeddings_for_item)\n"
   ]
  },
  {
   "cell_type": "code",
   "execution_count": 25,
   "metadata": {},
   "outputs": [],
   "source": [
    "with open('DP_Sample.json', 'r') as file:\n",
    "    data = json.load(file)\n",
    "\n",
    "text_fields = [\n",
    "    \"title\",\n",
    "    \"description\",\n",
    "    \"tags\",  \n",
    "    \"document\",\n",
    "]\n",
    "\n",
    "data_sources = data.get(\"data_sources\", [])\n",
    "\n",
    "for item in data_sources:\n",
    "    text_fields.extend([item[\"title\"], item[\"description\"]])\n",
    "\n",
    "embeddings_dict = {}\n",
    "\n",
    "for field in text_fields:\n",
    "    text = data.get(field, \"\")  \n",
    "\n",
    "    input_ids = tokenizer.encode(text, add_special_tokens=True, return_tensors=\"pt\")\n",
    "\n",
    "    with torch.no_grad():\n",
    "        outputs = model(input_ids)\n",
    "        embeddings = outputs.last_hidden_state[0]  \n",
    "\n",
    "    embeddings_list = embeddings.tolist()\n",
    "\n",
    "    embeddings_dict[field] = embeddings_list\n",
    "\n",
    "with open(\"field_embeddings.json\", \"w\") as file:\n",
    "    json.dump(embeddings_dict, file)\n",
    "\n"
   ]
  },
  {
   "cell_type": "code",
   "execution_count": 38,
   "metadata": {},
   "outputs": [],
   "source": [
    "def text2vec(text):\n",
    "    \n",
    "    \n",
    "    return vec"
   ]
  },
  {
   "cell_type": "code",
   "execution_count": 47,
   "metadata": {},
   "outputs": [],
   "source": [
    "import torch\n",
    "import json\n",
    "\n",
    "def calculate_field_medians(data, text_fields, tokenizer, model):\n",
    "    embeddings_dict = {}\n",
    "\n",
    "    for field in text_fields:\n",
    "        text = data.get(field, \"\")\n",
    "\n",
    "        input_ids = tokenizer.encode(text, add_special_tokens=True, return_tensors=\"pt\")\n",
    "\n",
    "        with torch.no_grad():\n",
    "            outputs = model(input_ids)\n",
    "            embeddings = outputs.last_hidden_state[0]\n",
    "\n",
    "        median_embedding = torch.median(embeddings, dim=0).values.unsqueeze(0)\n",
    "        embeddings_list = median_embedding.tolist()\n",
    "\n",
    "        embeddings_dict[field] = embeddings_list\n",
    "\n",
    "    return embeddings_dict\n",
    "\n",
    "\n",
    "with open('DP_Sample.json', 'r') as file:\n",
    "    data = json.load(file)\n",
    "\n",
    "text_fields = [\n",
    "    \"title\",\n",
    "    \"description\",\n",
    "    \"tags\",  \n",
    "    \"document\",\n",
    "]\n",
    "\n",
    "data_sources = data.get(\"data_sources\", [])\n",
    "\n",
    "for item in data_sources:\n",
    "    text_fields.extend([item[\"title\"], item[\"description\"]])\n",
    "\n",
    "field_embeddings = calculate_field_medians(data, text_fields, tokenizer, model)\n",
    "\n",
    "with open(\"field_medians.json\", \"w\") as file:\n",
    "    json.dump(field_embeddings, file)\n"
   ]
  },
  {
   "cell_type": "code",
   "execution_count": null,
   "metadata": {},
   "outputs": [],
   "source": []
  }
 ],
 "metadata": {
  "kernelspec": {
   "display_name": "Python 3 (ipykernel)",
   "language": "python",
   "name": "python3"
  },
  "language_info": {
   "codemirror_mode": {
    "name": "ipython",
    "version": 3
   },
   "file_extension": ".py",
   "mimetype": "text/x-python",
   "name": "python",
   "nbconvert_exporter": "python",
   "pygments_lexer": "ipython3",
   "version": "3.11.5"
  }
 },
 "nbformat": 4,
 "nbformat_minor": 2
}
